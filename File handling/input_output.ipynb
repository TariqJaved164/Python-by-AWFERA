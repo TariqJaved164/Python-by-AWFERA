{
 "cells": [
  {
   "cell_type": "markdown",
   "metadata": {},
   "source": [
    "# File Handling in Python"
   ]
  },
  {
   "cell_type": "markdown",
   "metadata": {},
   "source": [
    "## 📘 Level 1: Basics of File Handling\n",
    "### ✅ Opening a File"
   ]
  },
  {
   "cell_type": "code",
   "execution_count": null,
   "metadata": {},
   "outputs": [],
   "source": [
    "file = open(\"example.txt\", \"r\")  # \"r\" is for reading"
   ]
  },
  {
   "cell_type": "markdown",
   "metadata": {},
   "source": [
    "### ✅ Modes\n",
    "\n",
    "`\"r\"` – Read\n",
    "\n",
    "`\"r+\"` – Read and Write\n",
    "\n",
    "`\"w\"` – Write (overwrites file)\n",
    "\n",
    "`\"a\"` – Append (adds to the end)\n",
    "\n",
    "`\"x\"` – Create a new file\n",
    "\n",
    "`\"b\"` – Binary mode (e.g. \"rb\", \"wb\")\n",
    "\n",
    "### ✅ Reading a File"
   ]
  },
  {
   "cell_type": "code",
   "execution_count": 2,
   "metadata": {},
   "outputs": [
    {
     "name": "stdout",
     "output_type": "stream",
     "text": [
      "Hello World\n",
      "\n"
     ]
    }
   ],
   "source": [
    "file = open(\"example.txt\", \"r\")\n",
    "content = file.read()\n",
    "print(content)\n",
    "file.close()\n"
   ]
  },
  {
   "cell_type": "markdown",
   "metadata": {},
   "source": [
    "### ✅ Writing to a File"
   ]
  },
  {
   "cell_type": "code",
   "execution_count": 3,
   "metadata": {},
   "outputs": [],
   "source": [
    "file = open(\"example.txt\", \"w\")\n",
    "file.write(\"Hello, file!\")\n",
    "file.close()\n"
   ]
  },
  {
   "cell_type": "markdown",
   "metadata": {},
   "source": [
    "### ✅ Using with (Best Practice)"
   ]
  },
  {
   "cell_type": "code",
   "execution_count": 4,
   "metadata": {},
   "outputs": [
    {
     "name": "stdout",
     "output_type": "stream",
     "text": [
      "Hello, file!\n"
     ]
    }
   ],
   "source": [
    "with open(\"example.txt\", \"r\") as file:\n",
    "    content = file.read()\n",
    "    print(content)\n"
   ]
  },
  {
   "cell_type": "markdown",
   "metadata": {},
   "source": [
    "### 🧪 Practice Problems (Beginner)\n",
    "\n",
    "1.  Create a file called `notes.txt` and write three lines to it.\n",
    "\n",
    "2.  Read `notes.txt` and print each line.\n",
    "\n",
    "3.  Append a line \"This is the appended line.\" to `notes.txt`."
   ]
  },
  {
   "cell_type": "code",
   "execution_count": 6,
   "metadata": {},
   "outputs": [],
   "source": [
    "# Create a file called `notes.txt` and write three lines to it.\n",
    "with open(\"notes.txt\", \"w\") as file: # \"w\" is for writing.\n",
    "    file.write(\"This is the first line.\\n\")\n",
    "    file.write(\"This is the second line.\\n\")\n",
    "    file.write(\"This is the third line.\\n\")\n",
    "    file.close() # close the file after writing.\n",
    "    "
   ]
  },
  {
   "cell_type": "code",
   "execution_count": 7,
   "metadata": {},
   "outputs": [
    {
     "name": "stdout",
     "output_type": "stream",
     "text": [
      "This is the first line.\n",
      "This is the second line.\n",
      "This is the third line.\n",
      "\n"
     ]
    }
   ],
   "source": [
    "# Read the contents of \"notes.txt\" and print each line.\n",
    "with open(\"notes.txt\" , \"r\") as file: # \"r\" is for reading.\n",
    "    contents = file.read()\n",
    "    print(contents)\n",
    "    \n",
    "    "
   ]
  },
  {
   "cell_type": "code",
   "execution_count": 9,
   "metadata": {},
   "outputs": [],
   "source": [
    "# Append a new line to \"notes.txt\".\n",
    "with open(\"notes.txt\" , \"a\") as file: # \"a is for appending.\"\n",
    "    file.write(\"This is the append line.\\n\")"
   ]
  },
  {
   "cell_type": "markdown",
   "metadata": {},
   "source": [
    "## 📗 Level 2: Intermediate File Operations\n",
    "### ✅ Reading Line by Line"
   ]
  },
  {
   "cell_type": "code",
   "execution_count": 10,
   "metadata": {},
   "outputs": [
    {
     "name": "stdout",
     "output_type": "stream",
     "text": [
      "Hello, file!\n"
     ]
    }
   ],
   "source": [
    "with open(\"example.txt\", \"r\") as file:\n",
    "    for line in file:\n",
    "        print(line.strip()) # trim whitespace from the ends of the line."
   ]
  },
  {
   "cell_type": "markdown",
   "metadata": {},
   "source": [
    "### ✅ Reading into a List"
   ]
  },
  {
   "cell_type": "code",
   "execution_count": 15,
   "metadata": {},
   "outputs": [
    {
     "name": "stdout",
     "output_type": "stream",
     "text": [
      "['This is the first line.\\n', 'This is the second line.\\n', 'This is the third line.\\n', 'This is the append line.\\n']\n"
     ]
    }
   ],
   "source": [
    "with open(\"notes.txt\", \"r\") as file:\n",
    "    lines = file.readlines()\n",
    "    print(lines) # readlines() returns a list of lines."
   ]
  },
  {
   "cell_type": "code",
   "execution_count": 16,
   "metadata": {},
   "outputs": [
    {
     "name": "stdout",
     "output_type": "stream",
     "text": [
      "This is the first line.\n",
      "\n",
      "This is the second line.\n",
      "\n",
      "This is the third line.\n",
      "\n",
      "This is the append line.\n",
      "\n"
     ]
    }
   ],
   "source": [
    "with open(\"notes.txt\", \"r\") as file:\n",
    "    lines = file.readlines()\n",
    "    for line in lines:\n",
    "        print(line)\n",
    "        "
   ]
  },
  {
   "cell_type": "markdown",
   "metadata": {},
   "source": [
    "### ✅ Writing Multiple Lines"
   ]
  },
  {
   "cell_type": "code",
   "execution_count": 18,
   "metadata": {},
   "outputs": [],
   "source": [
    "lines = [\"This is line 1\\n\", \"This is line 2\\n\", \"This is line 3\\n\"]\n",
    "with open(\"example.txt\", \"w\") as file:\n",
    "    file.writelines(lines)\n"
   ]
  },
  {
   "cell_type": "markdown",
   "metadata": {},
   "source": [
    "### 🧪 Practice Problems (Intermediate)\n",
    "1.  Read a file and count how many lines it has.\n",
    "\n",
    "2.  Write a Python list of 5 favorite movies to a file, each on a new line.\n",
    "\n",
    "3.  Read the file of movies and print them in reverse order."
   ]
  },
  {
   "cell_type": "code",
   "execution_count": 20,
   "metadata": {},
   "outputs": [
    {
     "name": "stdout",
     "output_type": "stream",
     "text": [
      "3\n"
     ]
    }
   ],
   "source": [
    "# Read a file and count how many lines it has.\n",
    "with open(\"example.txt\", \"r\") as file:\n",
    "    lines = file.readlines()\n",
    "    print(len(lines))"
   ]
  },
  {
   "cell_type": "code",
   "execution_count": 23,
   "metadata": {},
   "outputs": [],
   "source": [
    "# Write a Python list of 5 favorite movies to a file, each on a new line.\n",
    "movie_names = [\"Titanic\\n\", \"Robot\\n\", \"Devdas\\n\", \"Jannat\\n\", \"Waar\\n\"]\n",
    "with open(\"movie_names.txt\", \"w\") as file:\n",
    "    file.writelines(movie_names)\n"
   ]
  },
  {
   "cell_type": "code",
   "execution_count": 26,
   "metadata": {},
   "outputs": [
    {
     "name": "stdout",
     "output_type": "stream",
     "text": [
      "Waar\n",
      "\n",
      "Jannat\n",
      "\n",
      "Devdas\n",
      "\n",
      "Robot\n",
      "\n",
      "Titanic\n",
      "\n"
     ]
    }
   ],
   "source": [
    "# Read the file of movies and print them in reverse order.\n",
    "with open(\"movie_names.txt\", \"r\") as file:\n",
    "    movies = file.readlines()\n",
    "    for movie in reversed(movies):\n",
    "        print(movie)"
   ]
  },
  {
   "cell_type": "markdown",
   "metadata": {},
   "source": [
    "## 📙 Level 3: Advanced File Handling\n",
    "### ✅ Working with Binary Files"
   ]
  },
  {
   "cell_type": "code",
   "execution_count": 3,
   "metadata": {},
   "outputs": [
    {
     "name": "stdout",
     "output_type": "stream",
     "text": [
      "b'This is bianary data.'\n"
     ]
    }
   ],
   "source": [
    "# Writing binary.\n",
    "with open(\"data.bin\", \"wb\") as file:\n",
    "    file.write(b\"This is bianary data.\")\n",
    "    \n",
    "    \n",
    "# Reading the binary.\n",
    "with open(\"data.bin\", \"rb\") as file:\n",
    "    data= file.read()\n",
    "    print(data)"
   ]
  },
  {
   "cell_type": "markdown",
   "metadata": {},
   "source": [
    "### ✅ Using `os` and `pathlib`\n",
    "\n"
   ]
  },
  {
   "cell_type": "code",
   "execution_count": 4,
   "metadata": {},
   "outputs": [
    {
     "name": "stdout",
     "output_type": "stream",
     "text": [
      "File exists.\n"
     ]
    }
   ],
   "source": [
    "import os\n",
    "# check if file exists.\n",
    "if os.path.exists(\"example.txt\"):\n",
    "    print(\"File exists.\")\n",
    "else:\n",
    "    print(\"File does not exists.\")\n",
    "    "
   ]
  },
  {
   "cell_type": "code",
   "execution_count": 7,
   "metadata": {},
   "outputs": [
    {
     "name": "stdout",
     "output_type": "stream",
     "text": [
      "File size: 48 bytes\n"
     ]
    }
   ],
   "source": [
    "from pathlib import Path\n",
    "\n",
    "path = Path(\"example.txt\")\n",
    "if path.exists():\n",
    "    print(f\"File size: {path.stat().st_size} bytes\") # get file size in bytes.\n",
    "else:\n",
    "    print(\"File does not exists.\")\n"
   ]
  },
  {
   "cell_type": "markdown",
   "metadata": {},
   "source": [
    "### ✅ JSON Files"
   ]
  },
  {
   "cell_type": "code",
   "execution_count": 10,
   "metadata": {},
   "outputs": [
    {
     "name": "stdout",
     "output_type": "stream",
     "text": [
      "{'name': 'jon', 'age': 30, 'city': 'New York'}\n"
     ]
    }
   ],
   "source": [
    "import json\n",
    "# Writing json file.\n",
    "data = {\n",
    "    \"name\": \"jon\",\n",
    "    \"age\": 30,\n",
    "    \"city\": \"New York\"\n",
    "}\n",
    "with open(\"data.json\", \"w\") as file:\n",
    "    json.dump(data, file) # dump the data to file.\n",
    "\n",
    "# Reading json file.\n",
    "with open(\"data.json\", \"r\") as file:\n",
    "    loaded_data = json.load(file) # Load the data from file.\n",
    "    print(loaded_data)\n",
    "    "
   ]
  },
  {
   "cell_type": "markdown",
   "metadata": {},
   "source": [
    "### 🧪 Practice Problems (Advanced)\n",
    "1.  Check if a file exists, and if so, print its size.\n",
    "\n",
    "2.  Convert a Python dictionary of students and grades into a JSON file.\n",
    "\n",
    "3.  Create a log file that appends every time the script runs."
   ]
  },
  {
   "cell_type": "code",
   "execution_count": 11,
   "metadata": {},
   "outputs": [
    {
     "name": "stdout",
     "output_type": "stream",
     "text": [
      "File size: 48 bytes\n"
     ]
    }
   ],
   "source": [
    "# Check if a file exists, and if so, print its size.\n",
    "from pathlib import Path\n",
    "\n",
    "path = Path(\"example.txt\")\n",
    "if path.exists():\n",
    "    print(f\"File size: {path.stat().st_size} bytes\") # get file size in bytes.\n",
    "else:\n",
    "    print(\"File does not exists.\")"
   ]
  },
  {
   "cell_type": "code",
   "execution_count": 14,
   "metadata": {},
   "outputs": [
    {
     "name": "stdout",
     "output_type": "stream",
     "text": [
      "Student grades successfully saved to 'student_grades.json'.\n"
     ]
    }
   ],
   "source": [
    "# Convert a Python dictionary of students and grades into a JSON file.\n",
    "grades = {\n",
    "    \"Alice\": 85,\n",
    "    \"Bob\": 92,\n",
    "    \"Charlie\": 78,\n",
    "    \"David\": 95\n",
    "}\n",
    "file_name = \"student_grades.json\"\n",
    "with open(file_name, \"w\") as json_file:\n",
    "    json.dump(grades, json_file, indent=4)\n",
    "\n",
    "print(f\"Student grades successfully saved to '{file_name}'.\")"
   ]
  },
  {
   "cell_type": "code",
   "execution_count": null,
   "metadata": {},
   "outputs": [],
   "source": []
  }
 ],
 "metadata": {
  "kernelspec": {
   "display_name": "python_basics",
   "language": "python",
   "name": "python3"
  },
  "language_info": {
   "codemirror_mode": {
    "name": "ipython",
    "version": 3
   },
   "file_extension": ".py",
   "mimetype": "text/x-python",
   "name": "python",
   "nbconvert_exporter": "python",
   "pygments_lexer": "ipython3",
   "version": "3.10.16"
  }
 },
 "nbformat": 4,
 "nbformat_minor": 2
}
