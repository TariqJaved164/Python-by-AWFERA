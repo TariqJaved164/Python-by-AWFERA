{
 "cells": [
  {
   "cell_type": "markdown",
   "metadata": {},
   "source": [
    "### Name : Tariq Javed\n",
    "### Gmail_ID : khichi164@gmail.com\n",
    "### Course Name : Python Programming\n",
    "### Assignment No.1"
   ]
  },
  {
   "cell_type": "markdown",
   "metadata": {},
   "source": [
    "Problem: Write a Python program that takes a string as input and prints out the following:\n",
    "1. The string in reverse order.\n",
    "2. The number of vowels in the string."
   ]
  },
  {
   "cell_type": "markdown",
   "metadata": {},
   "source": [
    "#### Solution:"
   ]
  },
  {
   "cell_type": "code",
   "execution_count": 3,
   "metadata": {},
   "outputs": [
    {
     "name": "stdout",
     "output_type": "stream",
     "text": [
      "Original string:  Hello World\n",
      "Reversed string:  dlroW olleH\n",
      "Number of vowels:  3\n"
     ]
    }
   ],
   "source": [
    " # variable to store string.\n",
    "original_string = input(\"Enter a string: \")\n",
    "print(\"Original string: \", original_string)\n",
    "reversed_string = original_string[::-1]\n",
    "print(\"Reversed string: \", reversed_string)\n",
    "\n",
    "\n",
    "vowels = {'a','e','i','o','u'}  # set of vowels\n",
    "vowel_count = 0                 # variable to store count of vowels\n",
    "# loop to count vowels in string\n",
    "for char in original_string:\n",
    "    if char.lower() in vowels:  # check if character is vowel\n",
    "        vowel_count += 1\n",
    "print(\"Number of vowels: \", vowel_count)\n",
    "        \n"
   ]
  },
  {
   "cell_type": "markdown",
   "metadata": {},
   "source": [
    "### Question 2: Hands-on Coding Project\n",
    "#### Problem: Create a Python program that:\n",
    "1.  Takes an input number from the user.\n",
    "2.  Checks whether the number is even or odd.\n",
    "3.  Prints the result.      "
   ]
  },
  {
   "cell_type": "code",
   "execution_count": 7,
   "metadata": {},
   "outputs": [
    {
     "name": "stdout",
     "output_type": "stream",
     "text": [
      "The number 5 is odd.\n"
     ]
    }
   ],
   "source": [
    "# variable to store a number.\n",
    "number = int(input(\"Enter a number: \"))\n",
    "# check if number is even or odd.\n",
    "if number % 2 == 0:\n",
    "    print(f\"The number {number} is even.\")\n",
    "else:\n",
    "    print(f\"The number {number} is odd.\")\n",
    "    "
   ]
  },
  {
   "cell_type": "markdown",
   "metadata": {},
   "source": [
    "### Question 3: Virtual Environment Application\n",
    "#### Problem: Create a Python program that:\n",
    "1. Takes a list of integers as input.\n",
    "2. Creates a new virtual environment called sortenv.\n",
    "3. Installs a package (such as numpy) in the virtual environment.\n",
    "4. Sorts the list using a numpy method (numpy.sort()).\n",
    "5. Prints the sorted list."
   ]
  },
  {
   "cell_type": "code",
   "execution_count": 4,
   "metadata": {},
   "outputs": [
    {
     "name": "stdout",
     "output_type": "stream",
     "text": [
      "Original list:  ['4', '2', '7', '1', '3']\n",
      "Sorted list:  ['1' '2' '3' '4' '7']\n"
     ]
    }
   ],
   "source": [
    "import numpy as np # import numpy module\n",
    "# list of numbers\n",
    "original_list = input(\"Enter a list of numbers : \")\n",
    "original_list = original_list.split() # split the numbers to create a list\n",
    "print(\"Original list: \", original_list)  # print the original list\n",
    "\n",
    "# sort the list using numpy.sort() function\n",
    "sorted_list = np.sort(original_list)\n",
    "print(\"Sorted list: \", sorted_list)\n",
    "\n"
   ]
  }
 ],
 "metadata": {
  "kernelspec": {
   "display_name": "Python 3",
   "language": "python",
   "name": "python3"
  },
  "language_info": {
   "codemirror_mode": {
    "name": "ipython",
    "version": 3
   },
   "file_extension": ".py",
   "mimetype": "text/x-python",
   "name": "python",
   "nbconvert_exporter": "python",
   "pygments_lexer": "ipython3",
   "version": "3.13.2"
  }
 },
 "nbformat": 4,
 "nbformat_minor": 2
}
