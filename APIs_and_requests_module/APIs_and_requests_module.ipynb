{
 "cells": [
  {
   "cell_type": "markdown",
   "id": "3a23c9bd",
   "metadata": {},
   "source": [
    "## Introduction to APIs and the `requests` Module in Python\n",
    "### 1. What is an API?\n",
    "An **API (Application Programming Interface)** is a set of rules and protocols that allows different software applications to communicate with each other. APIs enable:\n",
    "\n",
    "-   Data exchange between servers and clients (e.g., fetching weather data, tweets, or stock prices).\n",
    "\n",
    "-   Integration with third-party services (e.g., Google Maps, Twitter, PayPal).\n",
    "\n",
    "-   Automation of tasks (e.g., sending emails, processing payments).\n",
    "\n",
    "### Types of APIs\n",
    "   1. **REST (Representational State Transfer)**\n",
    "   \n",
    "\n",
    "      - Uses **HTTP** methods (`GET`, `POST`, `PUT`, `DELETE`).\n",
    "\n",
    "       - Returns data in **JSON/XML** format.\n",
    "\n",
    "       -   Example: Twitter API, GitHub API.\n",
    "\n",
    "1.  **SOAP (Simple Object Access Protocol)**\n",
    "\n",
    "    - Uses **XML** for messaging.\n",
    "\n",
    "    -   More rigid and structured than REST.\n",
    "\n",
    "2.  **GraphQL**\n",
    "\n",
    "    -   Allows clients to request only the data they need.\n",
    "\n"
   ]
  },
  {
   "cell_type": "markdown",
   "id": "afefccbe",
   "metadata": {},
   "source": [
    "### 3. The `requests` Module in Python\n",
    "The `requests` library is the most popular Python library for making HTTP requests to APIs. It simplifies sending HTTP requests and handling responses.\n",
    "\n",
    "### Installation"
   ]
  },
  {
   "cell_type": "code",
   "execution_count": null,
   "id": "879b0364",
   "metadata": {},
   "outputs": [],
   "source": [
    "pip install requests"
   ]
  },
  {
   "cell_type": "markdown",
   "id": "6668f602",
   "metadata": {},
   "source": [
    "### 3. Making API Requests with requests\n",
    "**GET Request (Fetch Data)**"
   ]
  },
  {
   "cell_type": "code",
   "execution_count": 5,
   "id": "29a7ab5a",
   "metadata": {},
   "outputs": [
    {
     "name": "stdout",
     "output_type": "stream",
     "text": [
      "{'userId': 1, 'id': 1, 'title': 'sunt aut facere repellat provident occaecati excepturi optio reprehenderit', 'body': 'quia et suscipit\\nsuscipit recusandae consequuntur expedita et cum\\nreprehenderit molestiae ut ut quas totam\\nnostrum rerum est autem sunt rem eveniet architecto'}\n"
     ]
    }
   ],
   "source": [
    "import requests\n",
    "\n",
    "# Example: Fetch data from JSONPlaceholder API\n",
    "url = \"https://jsonplaceholder.typicode.com/posts/1\"\n",
    "response = requests.get(url)\n",
    "\n",
    "# Check if the request was successful (status code 200)\n",
    "if response.status_code == 200:\n",
    "    data = response.json()  # Parse JSON response\n",
    "    print(data)\n",
    "else:\n",
    "    print(\"Error:\", response.status_code)"
   ]
  },
  {
   "cell_type": "markdown",
   "id": "5018138e",
   "metadata": {},
   "source": [
    "**POST Request (Send Data)**"
   ]
  },
  {
   "cell_type": "code",
   "execution_count": 4,
   "id": "065c6618",
   "metadata": {},
   "outputs": [
    {
     "name": "stdout",
     "output_type": "stream",
     "text": [
      "{'title': 'Hello API', 'body': 'This is a test post.', 'userId': 1, 'id': 101}\n"
     ]
    }
   ],
   "source": [
    "\n",
    "url = \"https://jsonplaceholder.typicode.com/posts\"\n",
    "new_post = {\n",
    "    \"title\": \"Hello API\",\n",
    "    \"body\": \"This is a test post.\",\n",
    "    \"userId\": 1\n",
    "}\n",
    "\n",
    "response = requests.post(url, json=new_post)  # Send JSON data\n",
    "print(response.json())  # Get response from server"
   ]
  },
  {
   "cell_type": "markdown",
   "id": "8beccf3b",
   "metadata": {},
   "source": [
    "**PUT/PATCH Request (Update Data)**"
   ]
  },
  {
   "cell_type": "code",
   "execution_count": 10,
   "id": "074dd248",
   "metadata": {},
   "outputs": [],
   "source": [
    "# PUT (Full update)\n",
    "response = requests.put(\"https://jsonplaceholder.typicode.com/posts/1\", json={\"title\": \"Updated Title\"})\n",
    "\n",
    "\n",
    "# PATCH (Partial update)\n",
    "response = requests.patch(\"https://jsonplaceholder.typicode.com/posts/1\", json={\"title\": \"New Title\"})\n"
   ]
  },
  {
   "cell_type": "markdown",
   "id": "1ade4b46",
   "metadata": {},
   "source": [
    "**DELETE Request (Remove Data)**"
   ]
  },
  {
   "cell_type": "code",
   "execution_count": 15,
   "id": "234c3374",
   "metadata": {},
   "outputs": [
    {
     "name": "stdout",
     "output_type": "stream",
     "text": [
      "200\n"
     ]
    }
   ],
   "source": [
    "response = requests.delete(\"https://jsonplaceholder.typicode.com/posts/1\")\n",
    "print(response.status_code)  # 200 means success"
   ]
  },
  {
   "cell_type": "markdown",
   "id": "d16a79b2",
   "metadata": {},
   "source": [
    "### 4. Handling API Responses\n"
   ]
  },
  {
   "cell_type": "markdown",
   "id": "97e4d19a",
   "metadata": {},
   "source": [
    "| Method               | Description                                      |\n",
    "|----------------------|--------------------------------------------------|\n",
    "| response.status_code | HTTP status code (200 = success, 404 = not found)|\n",
    "| response.json()      | Parse JSON response into a Python dictionary      |\n",
    "| response.text        | Get raw response as a string                     |\n",
    "| response.headers     | Access HTTP response headers                     |\n"
   ]
  },
  {
   "cell_type": "markdown",
   "id": "bb4aa9a8",
   "metadata": {},
   "source": [
    "**Example: Error Handling**\n"
   ]
  },
  {
   "cell_type": "code",
   "execution_count": 12,
   "id": "81023357",
   "metadata": {},
   "outputs": [
    {
     "name": "stdout",
     "output_type": "stream",
     "text": [
      "Failed: 404\n"
     ]
    }
   ],
   "source": [
    "response = requests.get(\"https://jsonplaceholder.typicode.com/invalid-url\")\n",
    "\n",
    "if response.ok:  # Checks if status_code is 200-299\n",
    "    print(response.json())\n",
    "else:\n",
    "    print(\"Failed:\", response.status_code)"
   ]
  },
  {
   "cell_type": "markdown",
   "id": "5a75f5fc",
   "metadata": {},
   "source": [
    "### 5. Adding Headers & Authentication\n",
    "Many APIs require **authentication** (API keys, tokens).\n",
    "\n",
    "**Example: Using API Key in Headers**"
   ]
  },
  {
   "cell_type": "code",
   "execution_count": null,
   "id": "78ba78ea",
   "metadata": {},
   "outputs": [],
   "source": [
    "headers = {\n",
    "    \"Authorization\": \"Bearer YOUR_API_KEY\",\n",
    "    \"Content-Type\": \"application/json\"\n",
    "}\n",
    "\n",
    "response = requests.get(\"https://api.example.com/data\", headers=headers)"
   ]
  },
  {
   "cell_type": "markdown",
   "id": "a39e3bd9",
   "metadata": {},
   "source": [
    "**Example: Query Parameters**"
   ]
  },
  {
   "cell_type": "code",
   "execution_count": null,
   "id": "36390225",
   "metadata": {},
   "outputs": [],
   "source": [
    "params = {\"page\": 2, \"limit\": 10}\n",
    "response = requests.get(\"https://api.example.com/posts\", params=params)"
   ]
  },
  {
   "cell_type": "markdown",
   "id": "66cb54c1",
   "metadata": {},
   "source": [
    "### 6. Popular Free APIs to Practice"
   ]
  },
  {
   "cell_type": "markdown",
   "id": "c94c9773",
   "metadata": {},
   "source": [
    "\n",
    "| API             | Description                 | Endpoint                                 |\n",
    "|-----------------|----------------------------|-------------------------------------------|\n",
    "| JSONPlaceholder | Fake REST API for testing   | https://jsonplaceholder.typicode.com      |\n",
    "| OpenWeatherMap  | Weather data                | https://api.openweathermap.org            |\n",
    "| GitHub API      | Access GitHub repos         | https://api.github.com                    |\n",
    "| Cat Facts       | Random cat facts            | https://catfact.ninja/fact                |\n"
   ]
  },
  {
   "cell_type": "markdown",
   "id": "ccdefe2e",
   "metadata": {},
   "source": [
    "### 7. Practical Exercise: Weather API\n",
    "Let's try a real-world example with OpenWeatherMap."
   ]
  },
  {
   "cell_type": "code",
   "execution_count": 24,
   "id": "640a9a8c",
   "metadata": {},
   "outputs": [
    {
     "name": "stdout",
     "output_type": "stream",
     "text": [
      "Weather in Islamabad:\n",
      "Temperature: 38.8°C\n",
      "Conditions: clear sky\n"
     ]
    }
   ],
   "source": [
    "# Note: Sign up at https://openweathermap.org to get a free API key\n",
    "api_key = \"9f7fd90d84f299f577bf80dcec5329cb\"  # Replace with your actual key\n",
    "city = \"Islamabad\"\n",
    "url = f\"http://api.openweathermap.org/data/2.5/weather?q={city}&appid={api_key}&units=metric\"\n",
    "\n",
    "response = requests.get(url)\n",
    "if response.ok:\n",
    "    weather_data = response.json()\n",
    "    print(f\"Weather in {city}:\")\n",
    "    print(f\"Temperature: {weather_data['main']['temp']}°C\")\n",
    "    print(f\"Conditions: {weather_data['weather'][0]['description']}\")\n",
    "else:\n",
    "    print(\"Error fetching weather data\")"
   ]
  },
  {
   "cell_type": "markdown",
   "id": "db4516fa",
   "metadata": {},
   "source": [
    "### 8. Summary\n",
    "-   APIs allow programs to interact with external services.\n",
    "\n",
    "-   The `requests` library makes HTTP requests simple.\n",
    "\n",
    "-   Common methods:\n",
    "\n",
    "    -   `GET` → Retrieve data\n",
    "\n",
    "    -   `POST` → Send data\n",
    "\n",
    "    -   `PUT/PATCH` → Update data\n",
    "\n",
    "    -   `DELETE` → Remove data\n",
    "\n",
    "-   Always check `response.status_code` for errors.\n",
    "\n",
    "-   Use `headers` and `params` for authentication and filtering."
   ]
  },
  {
   "cell_type": "markdown",
   "id": "90f1398d",
   "metadata": {},
   "source": []
  }
 ],
 "metadata": {
  "kernelspec": {
   "display_name": "python_basics",
   "language": "python",
   "name": "python3"
  },
  "language_info": {
   "codemirror_mode": {
    "name": "ipython",
    "version": 3
   },
   "file_extension": ".py",
   "mimetype": "text/x-python",
   "name": "python",
   "nbconvert_exporter": "python",
   "pygments_lexer": "ipython3",
   "version": "3.10.16"
  }
 },
 "nbformat": 4,
 "nbformat_minor": 5
}
