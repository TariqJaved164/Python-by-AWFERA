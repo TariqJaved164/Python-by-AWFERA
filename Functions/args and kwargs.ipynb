{
 "cells": [
  {
   "cell_type": "markdown",
   "metadata": {},
   "source": [
    "# Understanding `*args` and `**kwargs` in Python Functions\n",
    "Let's dive into the world of Python functions and explore the cool features of `*args` and `**kwargs`! Think of them as special tools that make your functions more flexible.\n",
    "\n",
    "Imagine you're building a function that greets people. Sometimes you want to greet just one person, like this:"
   ]
  },
  {
   "cell_type": "code",
   "execution_count": 4,
   "metadata": {},
   "outputs": [
    {
     "name": "stdout",
     "output_type": "stream",
     "text": [
      "Hello, Alice!\n"
     ]
    }
   ],
   "source": [
    "def greet(name):\n",
    "  print(f\"Hello, {name}!\")\n",
    "\n",
    "greet(\"Alice\")"
   ]
  },
  {
   "cell_type": "markdown",
   "metadata": {},
   "source": [
    "But what if you want to greet multiple people? You could write a new function for each number of people, but that's not very efficient, right? This is where `*args` comes to the rescue!\n",
    "\n",
    "`*args` Packing Positional Arguments\n",
    "Think of *args as a container that can hold any number of positional arguments you pass to a function. The `*` symbol is the magic here; it tells Python to collect all the extra positional arguments into a tuple named args.\n",
    "\n",
    "Let's modify our greet function to use `*args`"
   ]
  },
  {
   "cell_type": "code",
   "execution_count": 5,
   "metadata": {},
   "outputs": [
    {
     "name": "stdout",
     "output_type": "stream",
     "text": [
      "Hello, Alice!\n",
      "Hello, Bob!\n",
      "Hello, Charlie!\n",
      "Hello, David!\n",
      "Hello, Eve!\n",
      "Hello, Fiona!\n"
     ]
    }
   ],
   "source": [
    "def greet_all(*args):\n",
    "  for name in args:\n",
    "    print(f\"Hello, {name}!\")\n",
    "\n",
    "greet_all(\"Alice\", \"Bob\", \"Charlie\")\n",
    "greet_all(\"David\", \"Eve\")\n",
    "greet_all(\"Fiona\")\n",
    "greet_all() # It even works with no arguments!"
   ]
  },
  {
   "cell_type": "markdown",
   "metadata": {},
   "source": [
    "See how flexible that is? When you call `greet_all(\"Alice\", \"Bob\", \"Charlie\")`, Python packs **\"Alice\", \"Bob\", and \"Charlie\"** into the `args` tuple inside the function. Then, we can loop through this tuple and greet each person.\n",
    "\n",
    "Key takeaway for `*args`:\n",
    "\n",
    "-   It collects extra positional arguments.\n",
    "-   Inside the function, args becomes a tuple containing these arguments.\n",
    "-   You can use any name instead of args, but args is the convention.\n",
    "Now, what if you want to pass along some extra information with names, like their age or city? This is where `**kwargs` shines!\n",
    "\n",
    "`**kwargs`: **Packing Keyword Arguments**\n",
    "\n",
    "`**kwargs` is similar to `*args`, but it deals with keyword arguments. Think of keyword arguments as name-value pairs that you pass to a function using the `keyword=value` syntax. The `**` tells Python to collect these keyword arguments into a dictionary named `kwargs`.\n",
    "\n",
    "Let's create a function that introduces a person with some extra details:"
   ]
  },
  {
   "cell_type": "code",
   "execution_count": 6,
   "metadata": {},
   "outputs": [
    {
     "name": "stdout",
     "output_type": "stream",
     "text": [
      "Nice to meet you, Grace!\n",
      "You are 30 years old.\n",
      "You live in Islamabad.\n",
      "--------------------\n",
      "Nice to meet you, Hamza!\n",
      "You live in Lahore.\n",
      "--------------------\n",
      "--------------------\n",
      "--------------------\n"
     ]
    }
   ],
   "source": [
    "def introduce(**kwargs):\n",
    "  if \"name\" in kwargs:\n",
    "    print(f\"Nice to meet you, {kwargs['name']}!\")\n",
    "  if \"age\" in kwargs:\n",
    "    print(f\"You are {kwargs['age']} years old.\")\n",
    "  if \"city\" in kwargs:\n",
    "    print(f\"You live in {kwargs['city']}.\")\n",
    "  print(\"-\" * 20)\n",
    "\n",
    "introduce(name=\"Grace\", age=30, city=\"Islamabad\")\n",
    "introduce(name=\"Hamza\", city=\"Lahore\")\n",
    "introduce(country=\"Pakistan\") # This won't print a greeting as 'name' is missing\n",
    "introduce()"
   ]
  },
  {
   "cell_type": "markdown",
   "metadata": {},
   "source": [
    "In this example, when you call `introduce(name=\"Grace\", age=30, city=\"Islamabad\")`, Python gathers these keyword arguments into the `kwargs` dictionary: `{'name': 'Grace', 'age': 30, 'city': 'Islamabad'}`. Inside the function, we can then access these values using their keys.\n",
    "\n",
    "**Key takeaway for** `**kwargs`:\n",
    "\n",
    "-   It collects extra keyword arguments (in the format `keyword=value`).\n",
    "-   Inside the function, kwargs becomes a dictionary containing these `key-value` pairs.\n",
    "-   You can use any name instead of `kwargs`, but `kwargs` is the convention.\n",
    "**Putting Them Together**\n",
    "You can even use both `*args` and `**kwargs` in the same function definition! The order matters though: positional arguments first, then `*args`, then keyword arguments, and finally `**kwargs`."
   ]
  },
  {
   "cell_type": "code",
   "execution_count": 1,
   "metadata": {},
   "outputs": [
    {
     "name": "stdout",
     "output_type": "stream",
     "text": [
      "Name: Imran\n",
      "Hobbies: reading, hiking\n",
      "Details:\n",
      "- age: 35\n",
      "- city: Karachi\n",
      "- occupation: Engineer\n",
      "--------------------\n",
      "Name: Javeria\n",
      "Hobbies: painting\n",
      "Details:\n",
      "- favorite_color: blue\n",
      "--------------------\n"
     ]
    }
   ],
   "source": [
    "def describe_person(name, *hobbies, **details):\n",
    "  print(f\"Name: {name}\")\n",
    "  if hobbies:\n",
    "    print(\"Hobbies:\", \", \".join(hobbies))\n",
    "  if details:\n",
    "    print(\"Details:\")\n",
    "    for key, value in details.items():\n",
    "      print(f\"- {key}: {value}\")\n",
    "  print(\"-\" * 20)\n",
    "\n",
    "describe_person(\"Imran\", \"reading\", \"hiking\", age=35, city=\"Karachi\", occupation=\"Engineer\")\n",
    "describe_person(\"Javeria\", \"painting\", favorite_color=\"blue\")"
   ]
  },
  {
   "cell_type": "markdown",
   "metadata": {},
   "source": [
    "In this `describe_person` function:\n",
    "\n",
    "-   `name` is a regular positional argument.\n",
    "-   `*hobbies` collects any extra positional arguments into the `hobbies` tuple.\n",
    "-   `**details` collects any extra keyword arguments into the `details` dictionary.\n",
    "  \n",
    "So, `*args` and `**kwargs` are powerful tools for creating flexible functions that can accept a varying number of arguments, either by position or by keyword. They make your code more adaptable and easier to work with!"
   ]
  },
  {
   "cell_type": "markdown",
   "metadata": {},
   "source": []
  }
 ],
 "metadata": {
  "kernelspec": {
   "display_name": "python_basics",
   "language": "python",
   "name": "python3"
  },
  "language_info": {
   "codemirror_mode": {
    "name": "ipython",
    "version": 3
   },
   "file_extension": ".py",
   "mimetype": "text/x-python",
   "name": "python",
   "nbconvert_exporter": "python",
   "pygments_lexer": "ipython3",
   "version": "3.10.16"
  }
 },
 "nbformat": 4,
 "nbformat_minor": 2
}
