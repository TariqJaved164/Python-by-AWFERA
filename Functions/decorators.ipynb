{
 "cells": [
  {
   "cell_type": "markdown",
   "metadata": {},
   "source": [
    "# What is a Decorator?\n",
    "A decorator in Python is a function that takes another function as input, adds some functionality to it, and then returns it."
   ]
  },
  {
   "cell_type": "markdown",
   "metadata": {},
   "source": [
    "## Basic Decorator Example"
   ]
  },
  {
   "cell_type": "code",
   "execution_count": 1,
   "metadata": {},
   "outputs": [
    {
     "name": "stdout",
     "output_type": "stream",
     "text": [
      "Something before the function runs.\n",
      "Hello!\n",
      "Something after the function runs.\n"
     ]
    }
   ],
   "source": [
    "def my_decorator(func):\n",
    "    def wrapper():\n",
    "        print(\"Something before the function runs.\")\n",
    "        func()\n",
    "        print(\"Something after the function runs.\")\n",
    "    return wrapper\n",
    "\n",
    "@my_decorator\n",
    "def say_hello():\n",
    "    print(\"Hello!\")\n",
    "\n",
    "say_hello()\n"
   ]
  },
  {
   "cell_type": "markdown",
   "metadata": {},
   "source": [
    "***Note:***  `@my_decorator` is the same as `say_hello = my_decorator(say_hello)`"
   ]
  },
  {
   "cell_type": "markdown",
   "metadata": {},
   "source": [
    "## Decorators with Arguments"
   ]
  },
  {
   "cell_type": "code",
   "execution_count": 2,
   "metadata": {},
   "outputs": [
    {
     "name": "stdout",
     "output_type": "stream",
     "text": [
      "Something before the function runs.\n",
      "Hello, Tariq Javed!\n",
      "Somthing after the funtion runs.\n"
     ]
    }
   ],
   "source": [
    "def my_decorator(func):\n",
    "    def wrapper(*args , **kwargs):\n",
    "        print(\"Something before the function runs.\")\n",
    "        func(*args, **kwargs)\n",
    "        print(\"Somthing after the funtion runs.\")\n",
    "        \n",
    "    return wrapper\n",
    "\n",
    "@my_decorator\n",
    "def greet(name):\n",
    "    print(f\"Hello, {name}!\")\n",
    "    \n",
    "greet(\"Tariq Javed\")\n",
    "    "
   ]
  },
  {
   "cell_type": "markdown",
   "metadata": {},
   "source": [
    "# Timing Decorator\n",
    "- Write a decorator that measures the execution time of any function.\n",
    "- Measure how long a function takes to run."
   ]
  },
  {
   "cell_type": "code",
   "execution_count": 3,
   "metadata": {},
   "outputs": [
    {
     "name": "stdout",
     "output_type": "stream",
     "text": [
      "Function 'slow_function' took 0.0590 seconds to run.\n"
     ]
    }
   ],
   "source": [
    "import time  # We need this module to measure time\n",
    "\n",
    "def timer(func):\n",
    "    def wrapper(*args, **kwargs):  # Accept any arguments\n",
    "        start_time = time.time()  # Record start time\n",
    "        result = func(*args, **kwargs)  # Run the actual function\n",
    "        end_time = time.time()  # Record end time\n",
    "        duration = end_time - start_time  # Calculate duration\n",
    "        print(f\"Function '{func.__name__}' took {duration:.4f} seconds to run.\")\n",
    "        return result  # Return the result of the original function\n",
    "    return wrapper  # Return the wrapper\n",
    "\n",
    "@timer\n",
    "def slow_function():\n",
    "    for _ in range(1000000):\n",
    "        pass\n",
    "\n",
    "slow_function()\n"
   ]
  },
  {
   "cell_type": "markdown",
   "metadata": {},
   "source": [
    "##  Access Control (Password Check)\n",
    "-   Create a decorator that allows access to a function only if a password is correct.\n",
    "-   Only allow function to run if the correct password is given."
   ]
  },
  {
   "cell_type": "code",
   "execution_count": 5,
   "metadata": {},
   "outputs": [
    {
     "name": "stdout",
     "output_type": "stream",
     "text": [
      "The secret is: Python is awesome!\n"
     ]
    }
   ],
   "source": [
    "def require_password(correct_password):\n",
    "    def decorator(func):\n",
    "        def wrapper(password, *args, **kwargs):  # First argument should be password\n",
    "            if password == correct_password:\n",
    "                return func(*args, **kwargs)  # Call original function\n",
    "            else:\n",
    "                print(\"Access denied: wrong password!\")\n",
    "        return wrapper\n",
    "    return decorator\n",
    "\n",
    "@require_password(\"1234\")\n",
    "def show_secret():\n",
    "    print(\"The secret is: Python is awesome!\")\n",
    "\n",
    "show_secret(\"1234\")  # Correct password\n",
    "#show_secret(\"0000\")  # Wrong password\n"
   ]
  },
  {
   "cell_type": "code",
   "execution_count": null,
   "metadata": {},
   "outputs": [
    {
     "name": "stdout",
     "output_type": "stream",
     "text": [
      "Access granted\n",
      "The secret is: Python is awesome!\n",
      "Access denied: wrong password!\n"
     ]
    }
   ],
   "source": [
    "# upgraded version of above programe.\n",
    "def require_password(correct_password):\n",
    "    def decorator(func):\n",
    "        def wrapper(password, *args, **kwargs):  # First argument should be password\n",
    "            if password == correct_password:\n",
    "                print(\"Access granted\")\n",
    "                return func(*args, **kwargs)  # Call original function\n",
    "            else:\n",
    "                print(\"Access denied: wrong password!\")\n",
    "        return wrapper\n",
    "    return decorator\n",
    "\n",
    "@require_password(\"1234\")\n",
    "def show_secret():\n",
    "    print(\"The secret is: Python is awesome!\")\n",
    "\n",
    "show_secret(\"1234\")  # Correct password\n",
    "show_secret(\"0000\")  # Wrong password"
   ]
  },
  {
   "cell_type": "markdown",
   "metadata": {},
   "source": [
    "## Repeat Function\n",
    "-   Make a decorator that runs a function n times, where n is an argument to the decorator.\n"
   ]
  },
  {
   "cell_type": "code",
   "execution_count": 9,
   "metadata": {},
   "outputs": [
    {
     "name": "stdout",
     "output_type": "stream",
     "text": [
      "Run 1:\n",
      "Hello, Ali!\n",
      "Run 2:\n",
      "Hello, Ali!\n",
      "Run 3:\n",
      "Hello, Ali!\n"
     ]
    }
   ],
   "source": [
    "def repeat(n):\n",
    "    def decorator(func):\n",
    "        def wrapper(*args, **kwargs):\n",
    "            for i in range(n):  # Repeat n times\n",
    "                print(f\"Run {i+1}:\")\n",
    "                func(*args, **kwargs)\n",
    "        return wrapper\n",
    "    return decorator\n",
    "\n",
    "@repeat(3)\n",
    "def greet(name):\n",
    "    print(f\"Hello, {name}!\")\n",
    "\n",
    "greet(\"Ali\")\n"
   ]
  },
  {
   "cell_type": "markdown",
   "metadata": {},
   "source": [
    "## Logging Decorator\n",
    "Log function name and arguments every time it's called."
   ]
  },
  {
   "cell_type": "code",
   "execution_count": 3,
   "metadata": {},
   "outputs": [
    {
     "name": "stdout",
     "output_type": "stream",
     "text": [
      "Calling 'add' with args=(5, 10) kwargs={}\n",
      "15\n"
     ]
    }
   ],
   "source": [
    "def logger(func):\n",
    "    def wrapper(*args, **kwargs):\n",
    "        print(f\"Calling '{func.__name__}' with args={args} kwargs={kwargs}\")\n",
    "        return func(*args, **kwargs)\n",
    "    return wrapper\n",
    "\n",
    "@logger\n",
    "def add(a, b):\n",
    "    return a + b\n",
    "\n",
    "print(add(5, 10))\n"
   ]
  },
  {
   "cell_type": "markdown",
   "metadata": {},
   "source": [
    "## Caching / Memoization\n",
    "Goal: Save results of function calls to avoid repeated calculations."
   ]
  },
  {
   "cell_type": "code",
   "execution_count": 4,
   "metadata": {},
   "outputs": [
    {
     "name": "stdout",
     "output_type": "stream",
     "text": [
      "Calculating square of 4...\n",
      "16\n",
      "Returning cached result.\n",
      "16\n"
     ]
    }
   ],
   "source": [
    "def cache(func):\n",
    "    stored_results = {}  # Dictionary to store past results\n",
    "    def wrapper(*args):\n",
    "        if args in stored_results:\n",
    "            print(\"Returning cached result.\")\n",
    "            return stored_results[args]\n",
    "        else:\n",
    "            result = func(*args)\n",
    "            stored_results[args] = result\n",
    "            return result\n",
    "    return wrapper\n",
    "\n",
    "@cache\n",
    "def slow_square(n):\n",
    "    print(f\"Calculating square of {n}...\")\n",
    "    return n * n\n",
    "\n",
    "print(slow_square(4))  # Calculates\n",
    "print(slow_square(4))  # Uses cache\n"
   ]
  },
  {
   "cell_type": "markdown",
   "metadata": {},
   "source": [
    "## Checking Consultation time (Timing how long it takes)\n",
    "Instead of every doctor manually do these extra steps, a hospital can create a system that automatically ensure every doctor follow these steps.__ This is what a decorator does in programing."
   ]
  },
  {
   "cell_type": "code",
   "execution_count": 3,
   "metadata": {},
   "outputs": [
    {
     "name": "stdout",
     "output_type": "stream",
     "text": [
      "Recording patient's detail: Ali\n",
      "Doctor is consulting: Ali....\n",
      "Prescription given to Ali.\n",
      "Consultation time: 2.01 seconds.\n"
     ]
    }
   ],
   "source": [
    "import time # import time module to recorde time\n",
    "\n",
    "# decorator to log patient's detail before consultayion\n",
    "def log_decorator(func):\n",
    "    def wrapper(patient_name):\n",
    "        print(f\"Recording patient's detail: {patient_name}\")\n",
    "        return func(patient_name) # call the original function.\n",
    "    return wrapper\n",
    "\n",
    "\n",
    "# decorator to measure consultation time.\n",
    "def timer_decorator(func):\n",
    "    def wrapper(patient_name):\n",
    "        star_time = time.time() # record start time.\n",
    "        result = func(patient_name) # call the original function.\n",
    "        end_time = time.time()  # record the end time.\n",
    "        duration = end_time - star_time\n",
    "        print(f\"Consultation time: {duration:.2f} seconds.\")\n",
    "        return result\n",
    "    return wrapper\n",
    "\n",
    "\n",
    "# appllying multiple decorators to a doctor's consultation.\n",
    "@log_decorator\n",
    "@timer_decorator\n",
    "def doctor_consultation(patient_name):\n",
    "    print(f\"Doctor is consulting: {patient_name}....\")\n",
    "    time.sleep(2) # Simulate a delay for consultation.\n",
    "    print(f\"Prescription given to {patient_name}.\")\n",
    "    \n",
    "doctor_consultation(\"Ali\") # Call the function with a patient's name\n",
    "\n"
   ]
  }
 ],
 "metadata": {
  "kernelspec": {
   "display_name": "python_basics",
   "language": "python",
   "name": "python3"
  },
  "language_info": {
   "codemirror_mode": {
    "name": "ipython",
    "version": 3
   },
   "file_extension": ".py",
   "mimetype": "text/x-python",
   "name": "python",
   "nbconvert_exporter": "python",
   "pygments_lexer": "ipython3",
   "version": "3.10.16"
  }
 },
 "nbformat": 4,
 "nbformat_minor": 2
}
