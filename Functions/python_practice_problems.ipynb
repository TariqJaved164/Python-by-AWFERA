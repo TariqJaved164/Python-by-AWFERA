{
 "cells": [
  {
   "cell_type": "markdown",
   "id": "cf644aa9",
   "metadata": {},
   "source": [
    "# Python Practice Problems\n",
    "This notebook contains solutions for easy, medium, and hard Python problems."
   ]
  },
  {
   "cell_type": "markdown",
   "id": "d536d463",
   "metadata": {},
   "source": [
    "## Easy Problems"
   ]
  },
  {
   "cell_type": "markdown",
   "id": "7c5607ce",
   "metadata": {},
   "source": [
    "### 1. Reverse a String"
   ]
  },
  {
   "cell_type": "code",
   "execution_count": 3,
   "id": "00bbeda3",
   "metadata": {},
   "outputs": [
    {
     "name": "stdout",
     "output_type": "stream",
     "text": [
      "Originsl string: hello\n",
      "Reversed string : olleh\n"
     ]
    }
   ],
   "source": [
    "s = \"hello\"\n",
    "print(f\"Originsl string: {s}\")\n",
    "\n",
    "print(f\"Reversed string : {s[::-1]}\")"
   ]
  },
  {
   "cell_type": "markdown",
   "id": "2ede3c10",
   "metadata": {},
   "source": [
    "### 2. Sum of List Elements"
   ]
  },
  {
   "cell_type": "code",
   "execution_count": 4,
   "id": "d556b940",
   "metadata": {},
   "outputs": [
    {
     "name": "stdout",
     "output_type": "stream",
     "text": [
      "Sum of list elements: 15\n"
     ]
    }
   ],
   "source": [
    "lst = [1, 2, 3, 4, 5]  # List of integers\n",
    "print(f\"Sum of list elements: {sum(lst)}\")  # Output: 15"
   ]
  },
  {
   "cell_type": "markdown",
   "id": "aadfa800",
   "metadata": {},
   "source": [
    "### 3. Check Even or Odd"
   ]
  },
  {
   "cell_type": "code",
   "execution_count": 5,
   "id": "8c08a62a",
   "metadata": {},
   "outputs": [
    {
     "name": "stdout",
     "output_type": "stream",
     "text": [
      "Odd\n"
     ]
    }
   ],
   "source": [
    "n = 7\n",
    "print(\"Even\" if n % 2 == 0 else \"Odd\")  # Output: \"Odd\""
   ]
  },
  {
   "cell_type": "markdown",
   "id": "6321b756",
   "metadata": {},
   "source": [
    "### 4. Find Maximum and Minimum in a List"
   ]
  },
  {
   "cell_type": "code",
   "execution_count": 6,
   "id": "18966aab",
   "metadata": {},
   "outputs": [
    {
     "name": "stdout",
     "output_type": "stream",
     "text": [
      "Maximum number in the list: 9\n",
      "Minimum number in the list: 1\n"
     ]
    }
   ],
   "source": [
    "lst = [1, 5, 3, 9, 2]\n",
    "print(f\"Maximum number in the list: {max(lst)}\")  # maximum value in the list: 9\n",
    "print(f\"Minimum number in the list: {min(lst)}\")  # minimum value in the list: 1"
   ]
  },
  {
   "cell_type": "markdown",
   "id": "557ec281",
   "metadata": {},
   "source": [
    "### 5. Count Vowels in a String"
   ]
  },
  {
   "cell_type": "code",
   "execution_count": null,
   "id": "fdd38679",
   "metadata": {},
   "outputs": [
    {
     "name": "stdout",
     "output_type": "stream",
     "text": [
      "Number of vowels in the string: 3\n"
     ]
    }
   ],
   "source": [
    "s = \"hello world\"\n",
    "print(f\"Number of vowels in the string: {sum(1 for char in s if char in 'aeiouAEIOU')}\")  # Output: 3\n"
   ]
  },
  {
   "cell_type": "markdown",
   "id": "5ba4d02b",
   "metadata": {},
   "source": [
    "### 6.\tSorting Words"
   ]
  },
  {
   "cell_type": "code",
   "execution_count": 15,
   "id": "9d9d03e1",
   "metadata": {},
   "outputs": [
    {
     "name": "stdout",
     "output_type": "stream",
     "text": [
      "Original sentence: hello world this is a test\n",
      "Sorted words: ['a', 'hello', 'is', 'test', 'this', 'world']\n"
     ]
    }
   ],
   "source": [
    "# Take a sentence as input and return the words sorted alphabetically using the sorted() function.\n",
    "sentence = \"hello world this is a test\"\n",
    "print(f\"Original sentence: {sentence}\")\n",
    "words = sentence.split()\n",
    "sorted_words = sorted(words)\n",
    "print(f\"Sorted words: {sorted_words}\")  # Output: ['a', 'hello', 'is', 'test', 'this', 'world'] "
   ]
  },
  {
   "cell_type": "markdown",
   "id": "d44d263b",
   "metadata": {},
   "source": [
    "### 7.  Convert String to Upper and Lower Case"
   ]
  },
  {
   "cell_type": "code",
   "execution_count": 16,
   "id": "5310db42",
   "metadata": {},
   "outputs": [
    {
     "name": "stdout",
     "output_type": "stream",
     "text": [
      "Lowercase string: hello world\n",
      "Uppercase string: HELLO WORLD\n"
     ]
    }
   ],
   "source": [
    "# sample string\n",
    "string = \"Hello World\"\n",
    "# convert to lowercase\n",
    "lowercase_str = string.lower()\n",
    "print(f\"Lowercase string: {lowercase_str}\")  \n",
    "upperecase_str = string.upper()\n",
    "print(f\"Uppercase string: {upperecase_str}\")"
   ]
  },
  {
   "cell_type": "markdown",
   "id": "a56a9e7c",
   "metadata": {},
   "source": [
    "### 8. Check if All Elements Are True"
   ]
  },
  {
   "cell_type": "code",
   "execution_count": 18,
   "id": "82f5da28",
   "metadata": {},
   "outputs": [
    {
     "name": "stdout",
     "output_type": "stream",
     "text": [
      "All elemments are True: False\n"
     ]
    }
   ],
   "source": [
    "# list of Boolean values\n",
    "bool_list = [True, False, False, True]\n",
    "# check if all elements are True using the all() function.\n",
    "\n",
    "\n",
    "print(f\"All elemments are True: {all(bool_list)}\")  # Output: False\n"
   ]
  },
  {
   "cell_type": "markdown",
   "id": "08a00549",
   "metadata": {},
   "source": [
    "## Medium Problems"
   ]
  },
  {
   "cell_type": "markdown",
   "id": "23a86abb",
   "metadata": {},
   "source": [
    "### 6. Check for Palindrome"
   ]
  },
  {
   "cell_type": "code",
   "execution_count": null,
   "id": "05403cc4",
   "metadata": {},
   "outputs": [],
   "source": [
    "s = \"madam\"\n",
    "print(s == s[::-1])  # Output: True"
   ]
  },
  {
   "cell_type": "markdown",
   "id": "a4ce136a",
   "metadata": {},
   "source": [
    "### 7. Fibonacci Series"
   ]
  },
  {
   "cell_type": "code",
   "execution_count": 21,
   "id": "fe03294d",
   "metadata": {},
   "outputs": [
    {
     "name": "stdout",
     "output_type": "stream",
     "text": [
      "Fibonacci Series: [0, 1, 1, 2, 3, 5, 8, 13, 21, 34]\n"
     ]
    }
   ],
   "source": [
    "n = 10\n",
    "fib_series = [0, 1] # two preceding 0,1\n",
    "for i in range(2, n): # loop up to range n=10\n",
    "    fib_series.append(fib_series[i-1] + fib_series[i-2]) \n",
    "print(f\"Fibonacci Series: {fib_series[:n]}\")"
   ]
  },
  {
   "cell_type": "markdown",
   "id": "c92e113b",
   "metadata": {},
   "source": [
    "### 8. Factorial of a Number"
   ]
  },
  {
   "cell_type": "code",
   "execution_count": 23,
   "id": "56e95ac2",
   "metadata": {},
   "outputs": [
    {
     "name": "stdout",
     "output_type": "stream",
     "text": [
      "Factorial of 5: 120\n"
     ]
    }
   ],
   "source": [
    "n = 5 \n",
    "fact = 1 # initialize variable with 1\n",
    "for i in range(1, n+1): \n",
    "    fact *= i\n",
    "print(f\"Factorial of {n}: {fact}\")  # Output: 120"
   ]
  },
  {
   "cell_type": "markdown",
   "id": "aa176671",
   "metadata": {},
   "source": [
    "### 9. Merge Two Sorted Lists"
   ]
  },
  {
   "cell_type": "code",
   "execution_count": null,
   "id": "d46689ba",
   "metadata": {},
   "outputs": [],
   "source": [
    "list1 = [1, 3, 5]\n",
    "list2 = [2, 4, 6]\n",
    "print(sorted(list1 + list2))  # Output: [1, 2, 3, 4, 5, 6]"
   ]
  },
  {
   "cell_type": "markdown",
   "id": "232f9ebe",
   "metadata": {},
   "source": [
    "### 10. Find the Second Largest Number in a List"
   ]
  },
  {
   "cell_type": "code",
   "execution_count": null,
   "id": "2852f0fb",
   "metadata": {},
   "outputs": [],
   "source": [
    "lst = [4, 1, 2, 3, 4, 5]\n",
    "print(sorted(set(lst))[-2])  # Output: 4"
   ]
  },
  {
   "cell_type": "markdown",
   "id": "c69f476f",
   "metadata": {},
   "source": [
    "### 11.\tFilter Even Numbers from a List"
   ]
  },
  {
   "cell_type": "code",
   "execution_count": 30,
   "id": "a7b03d0e",
   "metadata": {},
   "outputs": [
    {
     "name": "stdout",
     "output_type": "stream",
     "text": [
      "Even numbers in list: [2, 4]\n"
     ]
    }
   ],
   "source": [
    "# Use the filter() function to extract even numbers from a list of integers\n",
    "lst = [1, 2, 3, 4, 5]  # List of integers\n",
    "even_number = list(filter(lambda x: x%2==0,lst))\n",
    "print(f\"Even numbers in list: {even_number}\")"
   ]
  },
  {
   "cell_type": "markdown",
   "id": "f6147cab",
   "metadata": {},
   "source": [
    "### 12.\tMap Function for Squaring Numbers"
   ]
  },
  {
   "cell_type": "code",
   "execution_count": 32,
   "id": "bd8f33ac",
   "metadata": {},
   "outputs": [
    {
     "name": "stdout",
     "output_type": "stream",
     "text": [
      "List of integers: [1, 2, 3, 4, 5]\n",
      "Squared numbers: [1, 4, 9, 16, 25]\n"
     ]
    }
   ],
   "source": [
    "lst = [1, 2, 3, 4, 5]  # List of integers\n",
    "print(f\"List of integers: {lst}\")\n",
    "squared_numbers = list(map(lambda x: x**2 , lst))\n",
    "print(f\"Squared numbers: {squared_numbers}\")"
   ]
  },
  {
   "cell_type": "markdown",
   "id": "57f2d5c3",
   "metadata": {},
   "source": [
    "### 13.\tFind the Length of the Longest Word"
   ]
  },
  {
   "cell_type": "code",
   "execution_count": 33,
   "id": "b2934b35",
   "metadata": {},
   "outputs": [
    {
     "name": "stdout",
     "output_type": "stream",
     "text": [
      "Longest word in the sentence: hello\n"
     ]
    }
   ],
   "source": [
    "# Given a sentence, use max() with the key=len argument to find the longest word.\n",
    "sentence = \"hello world this is a test\"\n",
    "words = sentence.split()\n",
    "longest_word = max(words, key=len)\n",
    "print(f\"Longest word in the sentence: {longest_word}\")  # Output: \"hello\""
   ]
  },
  {
   "cell_type": "markdown",
   "id": "a73b2204",
   "metadata": {},
   "source": [
    "### 14.\tZip Two Lists Together\n",
    "Given two lists (names and ages), use the zip() function to pair them as tuples.\n"
   ]
  },
  {
   "cell_type": "code",
   "execution_count": 34,
   "id": "13f0ec89",
   "metadata": {},
   "outputs": [
    {
     "name": "stdout",
     "output_type": "stream",
     "text": [
      "[('Alice', 25), ('Bob', 30), ('Charlie', 35)]\n"
     ]
    }
   ],
   "source": [
    "names = [\"Alice\", \"Bob\", \"Charlie\"]\n",
    "ages = [25,30,35]\n",
    "# create a tuple of names and ages using the zip() function\n",
    "people = list(zip(names,ages))\n",
    "print(people)"
   ]
  },
  {
   "cell_type": "markdown",
   "id": "85316bc7",
   "metadata": {},
   "source": [
    "## Hard Problems"
   ]
  },
  {
   "cell_type": "markdown",
   "id": "260a38a1",
   "metadata": {},
   "source": [
    "### 11. Binary Search Algorithm"
   ]
  },
  {
   "cell_type": "code",
   "execution_count": null,
   "id": "123b5102",
   "metadata": {},
   "outputs": [],
   "source": [
    "arr = [1, 2, 3, 4, 5, 6]\n",
    "target = 4\n",
    "left, right = 0, len(arr) - 1\n",
    "while left <= right:\n",
    "    mid = (left + right) // 2\n",
    "    if arr[mid] == target:\n",
    "        print(mid)\n",
    "        break\n",
    "    elif arr[mid] < target:\n",
    "        left = mid + 1\n",
    "    else:\n",
    "        right = mid - 1"
   ]
  },
  {
   "cell_type": "markdown",
   "id": "ae36b9a2",
   "metadata": {},
   "source": [
    "### 12. Sudoku Solver"
   ]
  },
  {
   "cell_type": "code",
   "execution_count": null,
   "id": "e3e19d6f",
   "metadata": {},
   "outputs": [],
   "source": [
    "print(\"Sudoku solver requires recursive functions\")"
   ]
  },
  {
   "cell_type": "markdown",
   "id": "5175eb44",
   "metadata": {},
   "source": [
    "### 13. LRU Cache Implementation"
   ]
  },
  {
   "cell_type": "code",
   "execution_count": null,
   "id": "7856c6fe",
   "metadata": {},
   "outputs": [],
   "source": [
    "from collections import OrderedDict\n",
    "\n",
    "cache = OrderedDict()\n",
    "capacity = 2\n",
    "cache[1] = 10\n",
    "cache[2] = 20\n",
    "cache.move_to_end(1)\n",
    "print(cache[1])  # Output: 10"
   ]
  },
  {
   "cell_type": "markdown",
   "id": "0311050e",
   "metadata": {},
   "source": [
    "### 14. Find the Longest Substring Without Repeating Characters"
   ]
  },
  {
   "cell_type": "code",
   "execution_count": null,
   "id": "5bdd500b",
   "metadata": {},
   "outputs": [],
   "source": [
    "s = \"abcabcbb\"\n",
    "char_index = {}\n",
    "start = max_length = 0\n",
    "for index, char in enumerate(s):\n",
    "    if char in char_index and char_index[char] >= start:\n",
    "        start = char_index[char] + 1\n",
    "    char_index[char] = index\n",
    "    max_length = max(max_length, index - start + 1)\n",
    "print(max_length)  # Output: 3"
   ]
  },
  {
   "cell_type": "markdown",
   "id": "48b080f0",
   "metadata": {},
   "source": [
    "### 15. Dijkstra’s Algorithm"
   ]
  },
  {
   "cell_type": "code",
   "execution_count": 1,
   "id": "dcbf0812",
   "metadata": {},
   "outputs": [
    {
     "name": "stdout",
     "output_type": "stream",
     "text": [
      "{'A': 0, 'B': 1, 'C': 3, 'D': 4}\n"
     ]
    }
   ],
   "source": [
    "import heapq\n",
    "\n",
    "\n",
    "graph = {\n",
    "    \"A\": {\"B\": 1, \"C\": 4},\n",
    "    \"B\": {\"A\": 1, \"C\": 2, \"D\": 5},\n",
    "    \"C\": {\"A\": 4, \"B\": 2, \"D\": 1},\n",
    "    \"D\": {\"B\": 5, \"C\": 1}\n",
    "}\n",
    "\n",
    "start = \"A\"\n",
    "pq = [(0, start)]\n",
    "distances = {node: float(\"inf\") for node in graph}\n",
    "distances[start] = 0\n",
    "\n",
    "while pq:\n",
    "    current_distance, current_node = heapq.heappop(pq)\n",
    "    if current_distance > distances[current_node]:\n",
    "        continue\n",
    "    for neighbor, weight in graph[current_node].items():\n",
    "        distance = current_distance + weight\n",
    "        if distance < distances[neighbor]:\n",
    "            distances[neighbor] = distance\n",
    "            heapq.heappush(pq, (distance, neighbor))\n",
    "\n",
    "print(distances)"
   ]
  }
 ],
 "metadata": {
  "kernelspec": {
   "display_name": "python_basics",
   "language": "python",
   "name": "python3"
  },
  "language_info": {
   "codemirror_mode": {
    "name": "ipython",
    "version": 3
   },
   "file_extension": ".py",
   "mimetype": "text/x-python",
   "name": "python",
   "nbconvert_exporter": "python",
   "pygments_lexer": "ipython3",
   "version": "3.10.16"
  }
 },
 "nbformat": 4,
 "nbformat_minor": 5
}
