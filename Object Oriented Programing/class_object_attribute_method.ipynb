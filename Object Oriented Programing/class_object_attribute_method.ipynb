{
 "cells": [
  {
   "cell_type": "markdown",
   "id": "9c0371bb",
   "metadata": {},
   "source": [
    "# 📘 Introduction to OOP in Python"
   ]
  },
  {
   "cell_type": "markdown",
   "id": "f9b5a72c",
   "metadata": {},
   "source": [
    "**Object-Oriented Programming (OOP)** is a way to organize code by creating \"objects\" that represent **real-world things** (like a dog, a car, or a bank account).\n",
    "Objects have **attributes** (characteristics) and **methods** (actions they can do)."
   ]
  },
  {
   "cell_type": "markdown",
   "id": "1531db20",
   "metadata": {},
   "source": [
    "## ✅ 1. What is a Class?\n",
    "A class is like a blueprint or template for creating objects.\n",
    "\n",
    "**Example**"
   ]
  },
  {
   "cell_type": "code",
   "execution_count": 1,
   "id": "d81e1daa",
   "metadata": {},
   "outputs": [],
   "source": [
    "class Dog:\n",
    "    pass"
   ]
  },
  {
   "cell_type": "markdown",
   "id": "a884f06a",
   "metadata": {},
   "source": [
    "-   `class Dog:` defines a class named `Dog`.\n",
    "\n",
    "-   `pass` means \"do nothing\" for now (placeholder)."
   ]
  },
  {
   "cell_type": "markdown",
   "id": "90e8a70e",
   "metadata": {},
   "source": [
    "## ✅ 2. What is an Object?\n",
    "An object is a real instance created from a class.\n",
    "\n",
    "**Example:**"
   ]
  },
  {
   "cell_type": "code",
   "execution_count": 2,
   "id": "1ac11066",
   "metadata": {},
   "outputs": [],
   "source": [
    "my_dog = Dog()"
   ]
  },
  {
   "cell_type": "markdown",
   "id": "54417635",
   "metadata": {},
   "source": [
    "-   `my_dog` is an **object** (also called an **instance**) of the `Dog` class."
   ]
  },
  {
   "cell_type": "markdown",
   "id": "7ee0c723",
   "metadata": {},
   "source": [
    "## ✅ 3. What are Attributes?\n",
    "***Attributes*** are ***variables*** that belong to an object.\n",
    "\n",
    "They describe the object's ***state*** or ***characteristics***.\n",
    "\n",
    "**Example:**"
   ]
  },
  {
   "cell_type": "code",
   "execution_count": 3,
   "id": "fedb2867",
   "metadata": {},
   "outputs": [
    {
     "name": "stdout",
     "output_type": "stream",
     "text": [
      "Buddy\n",
      "5\n"
     ]
    }
   ],
   "source": [
    "class Dog:\n",
    "    def __init__(self, name, age):\n",
    "        self.name = name  #attribute\n",
    "        self.age = age    #attribute \n",
    "        \n",
    "my_dog = Dog(\"Buddy\", 5)\n",
    "        \n",
    "print(my_dog.name)\n",
    "print(my_dog.age)\n",
    "        "
   ]
  },
  {
   "cell_type": "markdown",
   "id": "3574142c",
   "metadata": {},
   "source": [
    "-   `__init__()` is a special method called a **constructor**.\n",
    "\n",
    "-   `self` refers to the current **object**.\n",
    "\n",
    "-   `name` and `age` are a**ttributes**."
   ]
  },
  {
   "cell_type": "markdown",
   "id": "7e7b052d",
   "metadata": {},
   "source": [
    "## ✅ 4. What are Methods?\n",
    "**Methods** are functions that belong to an object.\n",
    "They describe actions the object can perform.\n",
    "\n",
    "**Example:**"
   ]
  },
  {
   "cell_type": "code",
   "execution_count": null,
   "id": "5a00684e",
   "metadata": {},
   "outputs": [
    {
     "name": "stdout",
     "output_type": "stream",
     "text": [
      "Buddy says Woof!\n"
     ]
    }
   ],
   "source": [
    "class Dog:\n",
    "    # Constructor to initialize attributes.\n",
    "    def __init__(self, name, age):\n",
    "        self.name = name  #attribute to store name\n",
    "        self.age = age    #attribute to store age\n",
    "    \n",
    "    # Creating a method\n",
    "    def bark(self):\n",
    "        print(f\"{self.name} says Woof!\")\n",
    "\n",
    "# Create an object.       \n",
    "my_dog = Dog(\"Buddy\", 5)\n",
    "\n",
    "my_dog.bark()"
   ]
  },
  {
   "cell_type": "markdown",
   "id": "f77cf2a4",
   "metadata": {},
   "source": [
    "-   `bark()` is a method.\n",
    "\n",
    "-   You call it using the object: `my_dog.bark()`."
   ]
  },
  {
   "cell_type": "markdown",
   "id": "2de17e32",
   "metadata": {},
   "source": [
    "## 🧪 Practice Problems"
   ]
  },
  {
   "cell_type": "markdown",
   "id": "03cc3c41",
   "metadata": {},
   "source": [
    "1️⃣   Create a class `Car` with attributes `brand` and `year`. Create an object and print its details."
   ]
  },
  {
   "cell_type": "code",
   "execution_count": null,
   "id": "8e7b4c35",
   "metadata": {},
   "outputs": [
    {
     "name": "stdout",
     "output_type": "stream",
     "text": [
      "TOYOTA\n",
      "2025\n"
     ]
    }
   ],
   "source": [
    "# Creating Class.\n",
    "class Car:\n",
    "    # Constructor to initialize attributes.\n",
    "    def __init__(self, brand, year):\n",
    "        self.brand = brand  # Attribute to store brand of a car.\n",
    "        self.year = year    # Attribute to store model of a car.\n",
    "        \n",
    "# Creating an Object.\n",
    "my_car = Car(\"TOYOTA\", 2025)\n",
    "\n",
    "# Printing Car detial.\n",
    "print(my_car.brand)\n",
    "print(my_car.year)\n",
    "    "
   ]
  },
  {
   "cell_type": "markdown",
   "id": "e985ae61",
   "metadata": {},
   "source": [
    "2️⃣ Create a method `drive()` inside `Car` that prints \"Car is driving\"."
   ]
  },
  {
   "cell_type": "code",
   "execution_count": 9,
   "id": "1523f48e",
   "metadata": {},
   "outputs": [
    {
     "name": "stdout",
     "output_type": "stream",
     "text": [
      "Car is driving\n"
     ]
    }
   ],
   "source": [
    "# Creating Class.\n",
    "class Car:\n",
    "    # Constructor to initialize attributes.\n",
    "    def __init__(self, brand, year):\n",
    "        self.brand = brand  # Attribute to store brand of a car.\n",
    "        self.year = year    # Attribute to store model of a car.\n",
    "        \n",
    "    # Creating a method drive()\n",
    "    def drive(self):\n",
    "        print(\"Car is driving\")\n",
    "        \n",
    "# Creating an Object.\n",
    "my_car = Car(\"TOYOTA\", 2025)\n",
    "\n",
    "# calling method.\n",
    "my_car.drive()"
   ]
  },
  {
   "cell_type": "markdown",
   "metadata": {},
   "source": [
    "3️⃣ Create a class `Student` with attributes `name` and `grade`. Create two student objects with different data."
   ]
  },
  {
   "cell_type": "code",
   "execution_count": null,
   "id": "ae6e1ed3",
   "metadata": {},
   "outputs": [],
   "source": [
    "class Student:\n",
    "    def __init__(self, name, grade):\n",
    "        self.name = name\n",
    "        self.grade = grade\n",
    "        \n",
    "# Create first student object.\n",
    "student1 = Student(\"Aice\", \"A\")\n",
    "# Create second student object.\n",
    "student2 = Student(\"Bob\", \"B\")\n",
    "\n",
    "    "
   ]
  },
  {
   "cell_type": "markdown",
   "metadata": {},
   "source": [
    "4️⃣ Add a method `show_grade()` inside `Student` that prints the student's grade."
   ]
  },
  {
   "cell_type": "code",
   "execution_count": 2,
   "id": "1db13125",
   "metadata": {},
   "outputs": [
    {
     "name": "stdout",
     "output_type": "stream",
     "text": [
      "Aice has grade A\n",
      "Bob has grade B\n"
     ]
    }
   ],
   "source": [
    "class Student:\n",
    "    def __init__(self, name, grade):\n",
    "        self.name = name\n",
    "        self.grade = grade\n",
    "        \n",
    "    # Create a method show_grade()\n",
    "    def show_grade(self):\n",
    "        # Print the grade of the student.\n",
    "        print(f\"{self.name} has grade {self.grade}\")\n",
    "        \n",
    "# Create first student object.\n",
    "student1 = Student(\"Aice\", \"A\")\n",
    "# Create second student object.\n",
    "student2 = Student(\"Bob\", \"B\")\n",
    "\n",
    "# Calling method.\n",
    "student1.show_grade()\n",
    "student2.show_grade()"
   ]
  },
  {
   "cell_type": "markdown",
   "id": "6bcbf20d",
   "metadata": {},
   "source": [
    "5️⃣Create a `Book` class with attributes `title` and `author`. Make a method `display_info()` that prints both."
   ]
  },
  {
   "cell_type": "code",
   "execution_count": 4,
   "id": "1899553b",
   "metadata": {},
   "outputs": [
    {
     "name": "stdout",
     "output_type": "stream",
     "text": [
      "Title: Python Programming, Author: John Doe.\n"
     ]
    }
   ],
   "source": [
    "class Book:\n",
    "    def __init__(self, title, author):\n",
    "        self.title = title\n",
    "        self.author = author\n",
    "            \n",
    "    # Create a method show_info()\n",
    "    def display_info(self):\n",
    "        # print the title and author of the book.\n",
    "        print(f\"Title: {self.title}, Author: {self.author}.\")\n",
    "        \n",
    "        \n",
    "# Create first book object.\n",
    "my_book = Book(\"Python Programming\", \"John Doe\")\n",
    "\n",
    "\n",
    "my_book.display_info()\n",
    "    "
   ]
  },
  {
   "cell_type": "code",
   "execution_count": null,
   "id": "aa506a9e",
   "metadata": {},
   "outputs": [],
   "source": []
  }
 ],
 "metadata": {
  "kernelspec": {
   "display_name": "python_basics",
   "language": "python",
   "name": "python3"
  },
  "language_info": {
   "codemirror_mode": {
    "name": "ipython",
    "version": 3
   },
   "file_extension": ".py",
   "mimetype": "text/x-python",
   "name": "python",
   "nbconvert_exporter": "python",
   "pygments_lexer": "ipython3",
   "version": "3.10.16"
  }
 },
 "nbformat": 4,
 "nbformat_minor": 5
}
