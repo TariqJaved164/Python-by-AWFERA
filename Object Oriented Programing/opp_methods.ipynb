{
 "cells": [
  {
   "cell_type": "markdown",
   "id": "fdb7c4cb",
   "metadata": {},
   "source": [
    "# Object-Oriented Programming (OOP) Methods and Their Types"
   ]
  },
  {
   "cell_type": "markdown",
   "id": "5796b07d",
   "metadata": {},
   "source": [
    "In ***Object-Oriented Programming (OOP)***, methods are functions defined within a class that define the behaviors or actions an object can perform. Methods can be categorized into different types based on their purpose and functionality.\n",
    "\n"
   ]
  },
  {
   "cell_type": "markdown",
   "id": "4a8be443",
   "metadata": {},
   "source": [
    "## 1. Instance Methods\n",
    "-   ***Definition***: The most common type of method, which operates on an instance of a class (object).\n",
    "\n",
    "-   ***First Parameter***: `self` (refers to the instance calling the method).\n",
    "\n",
    "-   ***Usage***: Used to access or modify instance attributes.\n",
    "\n",
    "***Example:***"
   ]
  },
  {
   "cell_type": "code",
   "execution_count": 1,
   "id": "53683919",
   "metadata": {},
   "outputs": [
    {
     "name": "stdout",
     "output_type": "stream",
     "text": [
      "Buddy says Woof!\n"
     ]
    }
   ],
   "source": [
    "class Dog:\n",
    "    def __init__(self, name):\n",
    "        self.name = name  # Instance attribute\n",
    "    \n",
    "    def bark(self):  # Instance method\n",
    "        print(f\"{self.name} says Woof!\")\n",
    "\n",
    "dog = Dog(\"Buddy\")\n",
    "dog.bark()  # Output: Buddy says Woof!"
   ]
  },
  {
   "cell_type": "markdown",
   "id": "25df8321",
   "metadata": {},
   "source": [
    "### Types of Instance Methods:\n",
    "-   ***Accessor (Getter) Methods***: Retrieve instance attributes."
   ]
  },
  {
   "cell_type": "code",
   "execution_count": 2,
   "id": "d8542260",
   "metadata": {},
   "outputs": [],
   "source": [
    "def get_name(self):\n",
    "    return self.name"
   ]
  },
  {
   "cell_type": "markdown",
   "id": "1ad3bc3f",
   "metadata": {},
   "source": [
    "-   ***Mutator (Setter) Methods***: Modify instance attributes."
   ]
  },
  {
   "cell_type": "code",
   "execution_count": 3,
   "id": "46673657",
   "metadata": {},
   "outputs": [],
   "source": [
    "def set_name(self, new_name):\n",
    "    self.name = new_name"
   ]
  },
  {
   "cell_type": "markdown",
   "id": "a7d68a07",
   "metadata": {},
   "source": [
    "## 2. Class Methods\n",
    "-   ***Definition***: Methods that work with the class itself rather than an instance.\n",
    "\n",
    "-   ***Decorator***: `@classmethod`\n",
    "\n",
    "-   ***First Parameter***: `cls` (refers to the class, not the instance).\n",
    "\n",
    "-   ***Usage***: Used for factory methods or modifying class-level attributes.\n",
    "\n",
    "***Example:***"
   ]
  },
  {
   "cell_type": "code",
   "execution_count": 4,
   "id": "9ed73882",
   "metadata": {},
   "outputs": [
    {
     "name": "stdout",
     "output_type": "stream",
     "text": [
      "Canis familiaris\n"
     ]
    }
   ],
   "source": [
    "class Dog:\n",
    "    species = \"Canis familiaris\"  # Class attribute\n",
    "    \n",
    "    @classmethod\n",
    "    def get_species(cls):\n",
    "        return cls.species\n",
    "\n",
    "print(Dog.get_species())  # Output: Canis familiaris"
   ]
  },
  {
   "cell_type": "markdown",
   "id": "3c4d2725",
   "metadata": {},
   "source": [
    "## 3. Static Methods\n",
    "-   ***Definition***: Methods that do not depend on class or instance state.\n",
    "\n",
    "-   ***Decorator***: `@staticmethod`\n",
    "\n",
    "-   ***No self or cls parameter***: Behaves like a regular function but belongs to a class.\n",
    "\n",
    "-   ***Usage***: Used for utility functions that don't need access to instance/class data.\n",
    "\n",
    "***Example:***"
   ]
  },
  {
   "cell_type": "code",
   "execution_count": 5,
   "id": "934d8e04",
   "metadata": {},
   "outputs": [
    {
     "name": "stdout",
     "output_type": "stream",
     "text": [
      "8\n"
     ]
    }
   ],
   "source": [
    "class MathOperations:\n",
    "    @staticmethod\n",
    "    def add(x, y):\n",
    "        return x + y\n",
    "\n",
    "print(MathOperations.add(5, 3))  # Output: 8"
   ]
  },
  {
   "cell_type": "markdown",
   "id": "287b53a6",
   "metadata": {},
   "source": [
    "## 4. Magic (Dunder) Methods\n",
    "-   ***Definition***: Special methods with double underscores `(__method__)` that define how objects behave in certain operations (e.g., `+`, `==`, `print()`).\n",
    "-   ***Usage***: Used for operator overloading and defining object behavior.\n",
    "\n",
    "***Examples:***"
   ]
  },
  {
   "cell_type": "code",
   "execution_count": 6,
   "id": "5c5fc6ac",
   "metadata": {},
   "outputs": [
    {
     "name": "stdout",
     "output_type": "stream",
     "text": [
      "Python OOP by John Doe\n"
     ]
    }
   ],
   "source": [
    "class Book:\n",
    "    def __init__(self, title, author):\n",
    "        self.title = title\n",
    "        self.author = author\n",
    "    \n",
    "    def __str__(self):  # String representation\n",
    "        return f\"{self.title} by {self.author}\"\n",
    "    \n",
    "    def __len__(self):  # Define length behavior\n",
    "        return len(self.title)\n",
    "\n",
    "book = Book(\"Python OOP\", \"John Doe\")\n",
    "print(book)  # Output: Python OOP by John Doe (uses __"
   ]
  }
 ],
 "metadata": {
  "kernelspec": {
   "display_name": "python_basics",
   "language": "python",
   "name": "python3"
  },
  "language_info": {
   "codemirror_mode": {
    "name": "ipython",
    "version": 3
   },
   "file_extension": ".py",
   "mimetype": "text/x-python",
   "name": "python",
   "nbconvert_exporter": "python",
   "pygments_lexer": "ipython3",
   "version": "3.10.16"
  }
 },
 "nbformat": 4,
 "nbformat_minor": 5
}
