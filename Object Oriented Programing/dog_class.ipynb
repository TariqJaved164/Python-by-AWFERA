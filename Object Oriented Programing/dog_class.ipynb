{
 "cells": [
  {
   "cell_type": "markdown",
   "id": "2f76c1ac",
   "metadata": {},
   "source": [
    "# Creating the Dog Class\n",
    "Each instance created from the **Dog** class will store a **name** and an **age**, and\n",
    "we’ll give each dog the ability to `sit()` and `roll_over()`"
   ]
  },
  {
   "cell_type": "code",
   "execution_count": 5,
   "id": "99f52d2d",
   "metadata": {},
   "outputs": [
    {
     "name": "stdout",
     "output_type": "stream",
     "text": [
      "My dog's name is Buddy\n",
      "My dog is 5 years old.\n"
     ]
    }
   ],
   "source": [
    "class Dog:\n",
    "    \"\"\"A class representing a dog with a name and age.\n",
    "    \"\"\"\n",
    "    def __init__(self, name, age):\n",
    "        \"\"\"Initaite the dog with a name and age.\"\"\"\n",
    "        self.name = name\n",
    "        self.age = age\n",
    "        \n",
    "        \n",
    "    def sit(self):\n",
    "        \"\"\"Simulate the dog sitting in response to a command.\"\"\"\n",
    "        print(f\"{self.name} is now sitting.\")\n",
    "        \n",
    "    def roll_over(self):\n",
    "        \"\"\"Simulate the dog rolling over in response to a command.\"\"\"\n",
    "        print(f\"{self.name} rolled over!\")\n",
    "        \n",
    "        \n",
    "\n",
    "my_dog = Dog(\"Buddy\" , 5)\n",
    "print(f\"My dog's name is {my_dog.name}\")\n",
    "print(f\"My dog is {my_dog.age} years old.\")    "
   ]
  },
  {
   "cell_type": "markdown",
   "id": "14aa0f85",
   "metadata": {},
   "source": [
    "## Calling Methods\n",
    "After we create an instance from the class ***Dog***, we can use dot notation to call any method defined in Dog. Let’s make our dog sit and roll over:"
   ]
  },
  {
   "cell_type": "code",
   "execution_count": 7,
   "id": "2dc7fd9c",
   "metadata": {},
   "outputs": [
    {
     "name": "stdout",
     "output_type": "stream",
     "text": [
      "Buddy is now sitting.\n"
     ]
    }
   ],
   "source": [
    "my_dog.sit()"
   ]
  },
  {
   "cell_type": "code",
   "execution_count": 8,
   "id": "8658a9af",
   "metadata": {},
   "outputs": [
    {
     "name": "stdout",
     "output_type": "stream",
     "text": [
      "Buddy rolled over!\n"
     ]
    }
   ],
   "source": [
    "my_dog.roll_over()"
   ]
  },
  {
   "cell_type": "markdown",
   "id": "846f4d78",
   "metadata": {},
   "source": [
    "## Creating Multiple Instances\n",
    "You can create as many instances from a class as you need. Let’s create a\n",
    "second dog called `your_dog`"
   ]
  },
  {
   "cell_type": "code",
   "execution_count": 13,
   "id": "10c1e5ab",
   "metadata": {},
   "outputs": [
    {
     "name": "stdout",
     "output_type": "stream",
     "text": [
      "My dog's name is Buddy\n",
      "My dog is 5 years old.\n",
      "Buddy is now sitting.\n",
      "\n",
      "Your dog's name is Willi\n",
      "Your dog is 6 years old.\n",
      "Willi is now sitting.\n"
     ]
    }
   ],
   "source": [
    "class Dog:\n",
    "    \"\"\"A class representing a dog with a name and age.\n",
    "    \"\"\"\n",
    "    def __init__(self, name, age):\n",
    "        \"\"\"Initaite the dog with a name and age.\"\"\"\n",
    "        self.name = name\n",
    "        self.age = age\n",
    "        \n",
    "        \n",
    "    def sit(self):\n",
    "        \"\"\"Simulate the dog sitting in response to a command.\"\"\"\n",
    "        print(f\"{self.name} is now sitting.\")\n",
    "        \n",
    "    def roll_over(self):\n",
    "        \"\"\"Simulate the dog rolling over in response to a command.\"\"\"\n",
    "        print(f\"{self.name} rolled over!\")\n",
    "        \n",
    "        \n",
    "\n",
    "my_dog = Dog(\"Buddy\" , 5)\n",
    "your_dog = Dog(\"Willi\" , 6)\n",
    "\n",
    "\n",
    "print(f\"My dog's name is {my_dog.name}\")\n",
    "print(f\"My dog is {my_dog.age} years old.\")  \n",
    "my_dog.sit()\n",
    "\n",
    "\n",
    "print(f\"\\nYour dog's name is {your_dog.name}\")\n",
    "print(f\"Your dog is {your_dog.age} years old.\")  \n",
    "your_dog.sit()"
   ]
  },
  {
   "cell_type": "code",
   "execution_count": 14,
   "id": "9e1d0099",
   "metadata": {},
   "outputs": [
    {
     "name": "stdout",
     "output_type": "stream",
     "text": [
      "Knight's Kitchen\n",
      "Italian\n"
     ]
    }
   ],
   "source": [
    "class Restaurant:\n",
    "    def __init__(self , restaurant_name , cuisine_type):\n",
    "        self.restaurant_name = restaurant_name\n",
    "        self.cuisine_type = cuisine_type\n",
    "        \n",
    "    def describe_restaurant(self):\n",
    "        print(f\"Restaurant Name: {self.restaurant_name}\")\n",
    "        print(f\"Cuisine Type: {self.cuisine_type}\")\n",
    "        \n",
    "    def open_restaurant(self):\n",
    "        print(f\"{self.restaurant_name} is open. \")\n",
    "        \n",
    "\n",
    "# Create an instance of the Restaurant class\n",
    "restaurant = Restaurant(\"Knight's Kitchen\", \"Italian\")\n",
    "# Print the attributes\n",
    "print(restaurant.restaurant_name)\n",
    "print(restaurant.cuisine_type)\n"
   ]
  }
 ],
 "metadata": {
  "kernelspec": {
   "display_name": "python_basics",
   "language": "python",
   "name": "python3"
  },
  "language_info": {
   "codemirror_mode": {
    "name": "ipython",
    "version": 3
   },
   "file_extension": ".py",
   "mimetype": "text/x-python",
   "name": "python",
   "nbconvert_exporter": "python",
   "pygments_lexer": "ipython3",
   "version": "3.10.16"
  }
 },
 "nbformat": 4,
 "nbformat_minor": 5
}
