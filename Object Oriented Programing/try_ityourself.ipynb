{
 "cells": [
  {
   "cell_type": "markdown",
   "id": "d30a11b4",
   "metadata": {},
   "source": [
    "### 1️⃣  \n",
    "Make a class called Restaurant. The `__init__()` method for Restaurant should store two attributes:\n",
    "a `restaurant_name` and a `cuisine_type`. \n",
    "Make a method called `describe_restaurant()` that prints these two pieces of information, \n",
    "and a method called `open_restaurant()` that prints a message indicating that the restaurant is open.\n",
    "Make an instance called restaurant from your class. \n",
    "Print the two attributes individually, and then call both methods.\n"
   ]
  },
  {
   "cell_type": "code",
   "execution_count": null,
   "id": "7cce3d5f",
   "metadata": {},
   "outputs": [],
   "source": [
    "\n",
    "class Restaurant:\n",
    "    def __init__(self, restaurant_name, cuisine_type):\n",
    "        \"\"\"Initialize restaurant_name and cuisine_type attributes.\"\"\"\n",
    "        self.restaurant_name = restaurant_name\n",
    "        self.cuisine_type = cuisine_type\n",
    "        \n",
    "    def describe_restaurant(self):\n",
    "        \"\"\"Print the restaurant's name and cuisine type.\"\"\"\n",
    "        print(f\"Restaurant Name: {self.restaurant_name}\")\n",
    "        print(f\"Cuisine Type: {self.cuisine_type}\") # Corrected from self.cuisine_name\n",
    "        \n",
    "    def open_restaurant(self):\n",
    "        \"\"\"Print a message indicating the restaurant is open.\"\"\"\n",
    "        print(f\"{self.restaurant_name} is open.\")\n",
    "        \n",
    "\n",
    "# Make an instance called restaurant from your class.\n",
    "restaurant = Restaurant(\"Knight's Kitchen\", \"Italian\")\n",
    "\n",
    "# Print the two attributes individually.\n",
    "print(restaurant.restaurant_name)\n",
    "print(restaurant.cuisine_type)\n",
    "\n",
    "# And then call both methods.\n",
    "restaurant.describe_restaurant()\n",
    "restaurant.open_restaurant()"
   ]
  },
  {
   "cell_type": "markdown",
   "id": "7e11445f",
   "metadata": {},
   "source": [
    "### 2️⃣\n",
    "Start with your class from Exercise 1️⃣. Create three different instances from the class, and call `describe_restaurant()` for each instance."
   ]
  },
  {
   "cell_type": "code",
   "execution_count": 6,
   "id": "0a2940a4",
   "metadata": {},
   "outputs": [
    {
     "name": "stdout",
     "output_type": "stream",
     "text": [
      "Restaurant Name: Knife 'n Fork\n",
      "Cuisine Type: American\n",
      "\n",
      "\n",
      "Restaurant Name: Aroma\n",
      "Cuisine Type: Pakistani\n",
      "\n",
      "\n",
      "Restaurant Name: Tandori\n",
      "Cuisine Type: Pakistani\n"
     ]
    }
   ],
   "source": [
    "class Restaurant:\n",
    "    def __init__(self, restaurant_name, cuisine_type):\n",
    "        \"\"\"Initialize restaurant_name and cuisine_type attributes.\"\"\"\n",
    "        self.restaurant_name = restaurant_name\n",
    "        self.cuisine_type = cuisine_type\n",
    "        \n",
    "    def describe_restaurant(self):\n",
    "        \"\"\"Print the restaurant's name and cuisine type.\"\"\"\n",
    "        print(f\"Restaurant Name: {self.restaurant_name}\")\n",
    "        print(f\"Cuisine Type: {self.cuisine_type}\") # Corrected from self.cuisine_name\n",
    "        \n",
    "    def open_restaurant(self):\n",
    "        \"\"\"Print a message indicating the restaurant is open.\"\"\"\n",
    "        print(f\"{self.restaurant_name} is open.\")\n",
    "        \n",
    "        \n",
    "restaurant1 = Restaurant(\"Knife 'n Fork\" , \"American\" )\n",
    "restaurant2 = Restaurant(\"Aroma\" , \"Pakistani\" )\n",
    "restaurant3 = Restaurant(\"Tandori\" , \"Pakistani\" )\n",
    "\n",
    "# Calling the method for each instace.\n",
    "restaurant1.describe_restaurant()\n",
    "print(\"\\n\")\n",
    "restaurant2.describe_restaurant()\n",
    "print(\"\\n\")\n",
    "restaurant3.describe_restaurant()\n"
   ]
  },
  {
   "cell_type": "code",
   "execution_count": null,
   "id": "7a61d7df",
   "metadata": {},
   "outputs": [],
   "source": []
  }
 ],
 "metadata": {
  "kernelspec": {
   "display_name": "python_basics",
   "language": "python",
   "name": "python3"
  },
  "language_info": {
   "codemirror_mode": {
    "name": "ipython",
    "version": 3
   },
   "file_extension": ".py",
   "mimetype": "text/x-python",
   "name": "python",
   "nbconvert_exporter": "python",
   "pygments_lexer": "ipython3",
   "version": "3.10.16"
  }
 },
 "nbformat": 4,
 "nbformat_minor": 5
}
