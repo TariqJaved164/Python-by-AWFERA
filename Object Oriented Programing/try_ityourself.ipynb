{
 "cells": [
  {
   "cell_type": "markdown",
   "id": "d30a11b4",
   "metadata": {},
   "source": [
    "### 1️⃣  \n",
    "Make a class called Restaurant. The `__init__()` method for Restaurant should store two attributes:\n",
    "a `restaurant_name` and a `cuisine_type`. \n",
    "Make a method called `describe_restaurant()` that prints these two pieces of information, \n",
    "and a method called `open_restaurant()` that prints a message indicating that the restaurant is open.\n",
    "Make an instance called restaurant from your class. \n",
    "Print the two attributes individually, and then call both methods.\n"
   ]
  },
  {
   "cell_type": "code",
   "execution_count": null,
   "id": "7cce3d5f",
   "metadata": {},
   "outputs": [],
   "source": [
    "\n",
    "class Restaurant:\n",
    "    def __init__(self, restaurant_name, cuisine_type):\n",
    "        \"\"\"Initialize restaurant_name and cuisine_type attributes.\"\"\"\n",
    "        self.restaurant_name = restaurant_name\n",
    "        self.cuisine_type = cuisine_type\n",
    "        \n",
    "    def describe_restaurant(self):\n",
    "        \"\"\"Print the restaurant's name and cuisine type.\"\"\"\n",
    "        print(f\"Restaurant Name: {self.restaurant_name}\")\n",
    "        print(f\"Cuisine Type: {self.cuisine_type}\") # Corrected from self.cuisine_name\n",
    "        \n",
    "    def open_restaurant(self):\n",
    "        \"\"\"Print a message indicating the restaurant is open.\"\"\"\n",
    "        print(f\"{self.restaurant_name} is open.\")\n",
    "        \n",
    "\n",
    "# Make an instance called restaurant from your class.\n",
    "restaurant = Restaurant(\"Knight's Kitchen\", \"Italian\")\n",
    "\n",
    "# Print the two attributes individually.\n",
    "print(restaurant.restaurant_name)\n",
    "print(restaurant.cuisine_type)\n",
    "\n",
    "# And then call both methods.\n",
    "restaurant.describe_restaurant()\n",
    "restaurant.open_restaurant()"
   ]
  },
  {
   "cell_type": "markdown",
   "id": "7e11445f",
   "metadata": {},
   "source": [
    "### 2️⃣\n",
    "Start with your class from Exercise 1️⃣. Create three different instances from the class, and call `describe_restaurant()` for each instance."
   ]
  },
  {
   "cell_type": "code",
   "execution_count": 6,
   "id": "0a2940a4",
   "metadata": {},
   "outputs": [
    {
     "name": "stdout",
     "output_type": "stream",
     "text": [
      "Restaurant Name: Knife 'n Fork\n",
      "Cuisine Type: American\n",
      "\n",
      "\n",
      "Restaurant Name: Aroma\n",
      "Cuisine Type: Pakistani\n",
      "\n",
      "\n",
      "Restaurant Name: Tandori\n",
      "Cuisine Type: Pakistani\n"
     ]
    }
   ],
   "source": [
    "class Restaurant:\n",
    "    def __init__(self, restaurant_name, cuisine_type):\n",
    "        \"\"\"Initialize restaurant_name and cuisine_type attributes.\"\"\"\n",
    "        self.restaurant_name = restaurant_name\n",
    "        self.cuisine_type = cuisine_type\n",
    "        \n",
    "    def describe_restaurant(self):\n",
    "        \"\"\"Print the restaurant's name and cuisine type.\"\"\"\n",
    "        print(f\"Restaurant Name: {self.restaurant_name}\")\n",
    "        print(f\"Cuisine Type: {self.cuisine_type}\") # Corrected from self.cuisine_name\n",
    "        \n",
    "    def open_restaurant(self):\n",
    "        \"\"\"Print a message indicating the restaurant is open.\"\"\"\n",
    "        print(f\"{self.restaurant_name} is open.\")\n",
    "        \n",
    "        \n",
    "restaurant1 = Restaurant(\"Knife 'n Fork\" , \"American\" )\n",
    "restaurant2 = Restaurant(\"Aroma\" , \"Pakistani\" )\n",
    "restaurant3 = Restaurant(\"Tandori\" , \"Pakistani\" )\n",
    "\n",
    "# Calling the method for each instace.\n",
    "restaurant1.describe_restaurant()\n",
    "print(\"\\n\")\n",
    "restaurant2.describe_restaurant()\n",
    "print(\"\\n\")\n",
    "restaurant3.describe_restaurant()\n"
   ]
  },
  {
   "cell_type": "markdown",
   "id": "488a5c86",
   "metadata": {},
   "source": [
    "### 3️⃣\n",
    "Start with your program from Exercise 1️⃣ . \n",
    "1. Add an attribute called `number_served` with a default value of 0. \n",
    "2. Create an instance called `restaurant` from this class. \n",
    "3. Print the number of customers the restaurant has served, and then change this value and print it again.\n",
    "4. Add a method called `set_number_served()` that lets you set the number of customers that have been served. \n",
    "5.  Call this method with a new number and print the value again.\n",
    "6.  Add a method called `increment_number_served()` that lets you increment the number of customers who’ve been served. \n",
    "7.  Call this method with any number you like that could represent how many customers were served in, say, a day of\n",
    "business."
   ]
  },
  {
   "cell_type": "code",
   "execution_count": 21,
   "id": "b0e2d873",
   "metadata": {},
   "outputs": [
    {
     "name": "stdout",
     "output_type": "stream",
     "text": [
      "Initial number of customers served: 0\n",
      "Updated number of customers served: 50\n",
      "Number of customers served updated to: 100\n",
      "Incremented number of customers served by 30. Total served: 130\n",
      "Incremented number of customers served by 15. Total served: 145\n"
     ]
    }
   ],
   "source": [
    "class Restaurant:\n",
    "    \"\"\"A class to represent a restaurant.\"\"\"\n",
    "\n",
    "    def __init__(self, restaurant_name, cuisine_type):\n",
    "        \"\"\"Initialize restaurant_name, cuisine_type, and number_served attributes.\"\"\"\n",
    "        self.restaurant_name = restaurant_name\n",
    "        self.cuisine_type = cuisine_type\n",
    "        self.number_served = 0  # 1. Add an attribute called number_served with a default value of 0.\n",
    "\n",
    "    def describe_restaurant(self):\n",
    "        \"\"\"Print the restaurant's name and cuisine type.\"\"\"\n",
    "        print(f\"Restaurant Name: {self.restaurant_name}\")\n",
    "        print(f\"Cuisine Type: {self.cuisine_type}\")\n",
    "\n",
    "    def open_restaurant(self):\n",
    "        \"\"\"Print a message indicating the restaurant is open.\"\"\"\n",
    "        print(f\"{self.restaurant_name} is now open!\")\n",
    "\n",
    "    def set_number_served(self, number):\n",
    "        \"\"\"\n",
    "        4. Add a method called set_number_served() that lets you set the number of customers that have been served.\n",
    "        \"\"\"\n",
    "        self.number_served = number\n",
    "        print(f\"Number of customers served updated to: {self.number_served}\")\n",
    "\n",
    "    def increment_number_served(self, additional_customers):\n",
    "        \"\"\"\n",
    "        6. Add a method called increment_number_served() that lets you increment the number of customers who’ve been served.\n",
    "        \"\"\"\n",
    "        self.number_served += additional_customers\n",
    "        print(f\"Incremented number of customers served by {additional_customers}. Total served: {self.number_served}\")\n",
    "\n",
    "\n",
    "# 2. Create an instance called restaurant from this class.\n",
    "restaurant = Restaurant(\"The Italian Bistro\", \"Italian\")\n",
    "\n",
    "# 3. Print the number of customers the restaurant has served, and then change this value and print it again.\n",
    "print(f\"Initial number of customers served: {restaurant.number_served}\")\n",
    "restaurant.number_served = 50  # Changing the value directly\n",
    "print(f\"Updated number of customers served: {restaurant.number_served}\")\n",
    "\n",
    "# 5. Call set_number_served() with a new number and print the value again.\n",
    "restaurant.set_number_served(100)\n",
    "\n",
    "# 7. Call increment_number_served() with any number you like.\n",
    "restaurant.increment_number_served(30)  # Representing customers served in a day\n",
    "restaurant.increment_number_served(15)  # Another increment"
   ]
  },
  {
   "cell_type": "markdown",
   "id": "fb4038db",
   "metadata": {},
   "source": [
    "### User Class\n",
    "Make a class called `User`. Create two attributes called `first_name` and `last_name`, and then create several other attributes that are typically stored in a user profile. Make a method called `describe_user()` that prints a summary of the user’s information. Make another method called `greet_user()` that prints a personalized greeting to the user.\n",
    "Create several instances representing different users, and call both methods for each user."
   ]
  },
  {
   "cell_type": "code",
   "execution_count": 1,
   "id": "d6737b60",
   "metadata": {},
   "outputs": [
    {
     "name": "stdout",
     "output_type": "stream",
     "text": [
      "\n",
      "User Information:\n",
      "Name: Ali Khan\n",
      "Age: 25\n",
      "Email: alikhan@examlpe.com\n",
      "location: Pakistan\n",
      "Hello, Ali Khan! Welcome\n",
      "\n",
      "User Information:\n",
      "Name: Muhammad Ahmad\n",
      "Age: 20\n",
      "Email: ahmad@example.com\n",
      "location: Pakistan\n",
      "Hello, Muhammad Ahmad! Welcome\n"
     ]
    }
   ],
   "source": [
    "class User:\n",
    "    \"\"\"A class to represent user.\"\"\"\n",
    "    def __init__(self, first_name, last_name, age, location, email):\n",
    "        \"\"\"Initialize attributes to describe a user.\"\"\"\n",
    "        self.first_name = first_name\n",
    "        self.last_name = last_name\n",
    "        self.age = age\n",
    "        self.location = location\n",
    "        self.email = email\n",
    "        \n",
    "        \n",
    "    def describe_user(self):\n",
    "        \"\"\"Print a summary of the user's information.\"\"\"\n",
    "       \n",
    "        print(\"\\nUser Information:\")\n",
    "        print(f\"Name: {self.first_name} {self.last_name}\")\n",
    "        print(f\"Age: {self.age}\")\n",
    "        print(f\"Email: {self.email}\")\n",
    "        print(f\"location: {self.location}\")\n",
    "        \n",
    "        \n",
    "    def greet_user(self):\n",
    "        \"\"\"Print a personalized greeting to the user.\"\"\"\n",
    "        print(f\"Hello, {self.first_name} {self.last_name}! Welcome\")    \n",
    "        \n",
    "        \n",
    "    # Create intances of the User class.\n",
    "user1 = User(\"Ali\", \"Khan\", 25,  \"Pakistan\", \"alikhan@examlpe.com\")\n",
    "user2 = User(\"Muhammad\", \"Ahmad\", 20, \"Pakistan\", \"ahmad@example.com\")\n",
    "\n",
    "# Call the methods on each intance.\n",
    "user1.describe_user()\n",
    "user1.greet_user()\n",
    "\n",
    "user2.describe_user()\n",
    "user2.greet_user()\n"
   ]
  },
  {
   "cell_type": "markdown",
   "id": "64615cc9",
   "metadata": {},
   "source": [
    "### Login Attempts\n",
    "1.  Add an attribute called `login_attempts` to your `User` class from above exercise. \n",
    "2.  Write a method called `increment_login_attempts()` that increments the value of login_attempts by 1. \n",
    "3.  Write another method called `reset_login_attempts()` that resets the value of `login_attempts` to 0.\n",
    "4.  Make an instance of the `User` class and call `increment_login_attempts()` several times. \n",
    "5.  Print the value of `login_attempts` to make sure it was incremented properly, and then call `reset_login_attempts()`.\n",
    "6.   Print `login_attempts` again to make sure it was reset to 0."
   ]
  },
  {
   "cell_type": "code",
   "execution_count": 2,
   "id": "87b693ee",
   "metadata": {},
   "outputs": [
    {
     "name": "stdout",
     "output_type": "stream",
     "text": [
      "Initial login attempts: 0\n",
      "After 3 login attempts: 3\n",
      "After reset: 0\n"
     ]
    }
   ],
   "source": [
    "class User:\n",
    "    \"\"\"A class to represent a user profile.\"\"\"\n",
    "    \n",
    "    def __init__(self, first_name, last_name, age, email, location):\n",
    "        \"\"\"Initialize user attributes.\"\"\"\n",
    "        self.first_name = first_name\n",
    "        self.last_name = last_name\n",
    "        self.age = age\n",
    "        self.email = email\n",
    "        self.location = location\n",
    "        self.login_attempts = 0  # New attribute to track login attempts\n",
    "    \n",
    "    def describe_user(self):\n",
    "        \"\"\"Print a summary of the user's information.\"\"\"\n",
    "        print(\"\\nUser Information:\")\n",
    "        print(f\"Name: {self.first_name} {self.last_name}\")\n",
    "        print(f\"Age: {self.age}\")\n",
    "        print(f\"Email: {self.email}\")\n",
    "        print(f\"Location: {self.location}\")\n",
    "        print(f\"Login attempts: {self.login_attempts}\")\n",
    "    \n",
    "    def greet_user(self):\n",
    "        \"\"\"Print a personalized greeting to the user.\"\"\"\n",
    "        print(f\"\\nHello, {self.first_name}! Welcome back to our platform.\")\n",
    "    \n",
    "    def increment_login_attempts(self):\n",
    "        \"\"\"Increment the number of login attempts by 1.\"\"\"\n",
    "        self.login_attempts += 1\n",
    "    \n",
    "    def reset_login_attempts(self):\n",
    "        \"\"\"Reset the number of login attempts to 0.\"\"\"\n",
    "        self.login_attempts = 0\n",
    "\n",
    "# Create an instance of User\n",
    "user1 = User(\"Emma\", \"Johnson\", 29, \"emma.j@example.com\", \"Boston\")\n",
    "\n",
    "# Increment login attempts several times\n",
    "print(f\"Initial login attempts: {user1.login_attempts}\")\n",
    "\n",
    "user1.increment_login_attempts()\n",
    "user1.increment_login_attempts()\n",
    "user1.increment_login_attempts()\n",
    "\n",
    "print(f\"After 3 login attempts: {user1.login_attempts}\")  # Should show 3\n",
    "\n",
    "# Reset login attempts\n",
    "user1.reset_login_attempts()\n",
    "print(f\"After reset: {user1.login_attempts}\")  # Should show 0"
   ]
  }
 ],
 "metadata": {
  "kernelspec": {
   "display_name": "python_basics",
   "language": "python",
   "name": "python3"
  },
  "language_info": {
   "codemirror_mode": {
    "name": "ipython",
    "version": 3
   },
   "file_extension": ".py",
   "mimetype": "text/x-python",
   "name": "python",
   "nbconvert_exporter": "python",
   "pygments_lexer": "ipython3",
   "version": "3.10.16"
  }
 },
 "nbformat": 4,
 "nbformat_minor": 5
}
