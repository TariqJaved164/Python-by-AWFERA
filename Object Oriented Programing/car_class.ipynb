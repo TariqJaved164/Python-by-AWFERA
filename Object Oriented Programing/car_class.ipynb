{
 "cells": [
  {
   "cell_type": "markdown",
   "id": "a7284726",
   "metadata": {},
   "source": [
    "## The Car Class\n",
    "Let’s write a new class representing a car. Our class will store information about the kind of car we’re working with, and it will have a method that summarizes this information:"
   ]
  },
  {
   "cell_type": "code",
   "execution_count": 1,
   "id": "c1bc2bc1",
   "metadata": {},
   "outputs": [
    {
     "name": "stdout",
     "output_type": "stream",
     "text": [
      "2020 Audi A4\n"
     ]
    }
   ],
   "source": [
    "class Car:\n",
    "    \"\"\"A simple class to represent a car.\"\"\"\n",
    "    def __init__(self, make, model, year):\n",
    "        \"\"\"Initialize the attributes to describe a car.\"\"\"\n",
    "        self.make = make\n",
    "        self.model = model\n",
    "        self.year = year\n",
    "        \n",
    "    def get_description(self):\n",
    "        \"\"\"Return a neatly formatted descriptive name.\"\"\"\n",
    "        long_name = f\"{self.year} {self.make} {self.model}\"\n",
    "        return long_name.title()\n",
    "    \n",
    "    \n",
    "# Create intance of Car.\n",
    "my_car = Car('Audi', 'a4', 2020)\n",
    "# print the car's description.\n",
    "print(my_car.get_description())\n",
    "\n",
    "    \n",
    "    \n"
   ]
  },
  {
   "cell_type": "markdown",
   "id": "9a2ecb12",
   "metadata": {},
   "source": [
    "To make the class more interesting, let’s add an attribute that changes\n",
    "over time. We’ll add an attribute that stores the car’s overall mileage."
   ]
  },
  {
   "cell_type": "markdown",
   "id": "a5eaedcd",
   "metadata": {},
   "source": [
    "## Setting a Default Value for an Attribute\n",
    "When an instance is created, attributes can be defined without being\n",
    "passed in as parameters. These attributes can be defined in the `__init__()`\n",
    "method, where they are assigned a default value.\n",
    "Let’s add an attribute called `odometer_reading` that always starts with a\n",
    "value of 0. We’ll also add a method `read_odometer()` that helps us read each\n",
    "car’s odometer:"
   ]
  },
  {
   "cell_type": "code",
   "execution_count": 3,
   "id": "32ed107b",
   "metadata": {},
   "outputs": [
    {
     "name": "stdout",
     "output_type": "stream",
     "text": [
      "2020 Audi A4\n",
      "Odometer reading is 0 miles.\n"
     ]
    }
   ],
   "source": [
    "class Car:\n",
    "    \"\"\"A simple class to represent a car.\"\"\"\n",
    "    def __init__(self, make, model, year):\n",
    "        \"\"\"Initialize the attributes to describe a car.\"\"\"\n",
    "        self.make = make\n",
    "        self.model = model\n",
    "        self.year = year\n",
    "        self.odometer_reading = 0\n",
    "        \n",
    "               \n",
    "    def get_description(self):\n",
    "        \"\"\"Return a neatly formatted descriptive name.\"\"\"\n",
    "        long_name = f\"{self.year} {self.make} {self.model}\"\n",
    "        return long_name.title()\n",
    "    \n",
    "    def read_odometer(self):\n",
    "        \"\"\"Print a statement showing the car's mileage.\"\"\"\n",
    "        print(f\"Odometer reading is {self.odometer_reading} miles.\")\n",
    "        \n",
    "    \n",
    "    \n",
    "# Create intance of Car.\n",
    "my_car = Car('Audi', 'a4', 2020)\n",
    "# print the car's description.\n",
    "print(my_car.get_description())\n",
    "# Print the car's odometer reading.\n",
    "my_car.read_odometer()"
   ]
  },
  {
   "cell_type": "markdown",
   "id": "936cfc2e",
   "metadata": {},
   "source": [
    "Not many cars are sold with exactly 0 miles on the odometer, so we need a way to change the value of this attribute."
   ]
  },
  {
   "cell_type": "markdown",
   "id": "caa8b425",
   "metadata": {},
   "source": [
    "## Modifying Attribute Values\n",
    "We can change an attribute’s value in three ways: \n",
    "1.  Change the value directly through an instance\n",
    "2.  Set the value through a method\n",
    "3.  increment the value (add a certain amount to it) through a method. \n",
    "   \n",
    "   Let’s look at each of these approaches."
   ]
  },
  {
   "cell_type": "markdown",
   "id": "cdeee556",
   "metadata": {},
   "source": [
    "### 1.  Change the value directly through an instance\n",
    "The simplest way to modify the value of an attribute is to access the attribute directly through an instance. Here we set the odometer reading to 23 directly"
   ]
  },
  {
   "cell_type": "code",
   "execution_count": 4,
   "id": "893a5272",
   "metadata": {},
   "outputs": [
    {
     "name": "stdout",
     "output_type": "stream",
     "text": [
      "2020 Audi A4\n",
      "Odometer reading is 23 miles.\n"
     ]
    }
   ],
   "source": [
    "class Car:\n",
    "    \"\"\"A simple class to represent a car.\"\"\"\n",
    "    def __init__(self, make, model, year):\n",
    "        \"\"\"Initialize the attributes to describe a car.\"\"\"\n",
    "        self.make = make\n",
    "        self.model = model\n",
    "        self.year = year\n",
    "        self.odometer_reading = 0\n",
    "        \n",
    "               \n",
    "    def get_description(self):\n",
    "        \"\"\"Return a neatly formatted descriptive name.\"\"\"\n",
    "        long_name = f\"{self.year} {self.make} {self.model}\"\n",
    "        return long_name.title()\n",
    "    \n",
    "    def read_odometer(self):\n",
    "        \"\"\"Print a statement showing the car's mileage.\"\"\"\n",
    "        print(f\"Odometer reading is {self.odometer_reading} miles.\")\n",
    "        \n",
    "    \n",
    "    \n",
    "# Create intance of Car.\n",
    "my_car = Car('Audi', 'a4', 2020)\n",
    "# print the car's description.\n",
    "print(my_car.get_description())\n",
    "# Print the car's odometer reading.\n",
    "my_car.odometer_reading = 23\n",
    "# Print the car's odometer reading.\n",
    "my_car.read_odometer()"
   ]
  },
  {
   "cell_type": "markdown",
   "id": "b38f7f68",
   "metadata": {},
   "source": [
    "### 2.  Set the value through a method\n",
    "It can be helpful to have methods that update certain attributes for you. Instead of accessing the attribute directly, you pass the new value to a method that handles the updating internally.\n",
    "\n",
    "Here’s an example showing a method called `update_odometer()`"
   ]
  },
  {
   "cell_type": "code",
   "execution_count": 7,
   "id": "5aabf00c",
   "metadata": {},
   "outputs": [
    {
     "name": "stdout",
     "output_type": "stream",
     "text": [
      "2020 Audi A4\n",
      "This car has  23 miles on it.\n"
     ]
    }
   ],
   "source": [
    "\n",
    "class Car:\n",
    "    \"\"\"A simple class to represent a car.\"\"\"\n",
    "    def __init__(self, make, model, year):\n",
    "        \"\"\"Initialize the attributes to describe a car.\"\"\"\n",
    "        self.make = make\n",
    "        self.model = model\n",
    "        self.year = year\n",
    "        self.odometer_reading = 0\n",
    "        \n",
    "               \n",
    "    def get_description(self):\n",
    "        \"\"\"Return a neatly formatted descriptive name.\"\"\"\n",
    "        long_name = f\"{self.year} {self.make} {self.model}\"\n",
    "        return long_name.title()\n",
    "    \n",
    "    def update_odometer(self, mileage):\n",
    "        \"\"\"Set the odometer reading to the given value.\"\"\"\n",
    "        self.odometer_reading = mileage\n",
    "    \n",
    "    def read_odometer(self):\n",
    "        \"\"\"Print a statement showing the car's mileage.\"\"\"\n",
    "        print(f\"This car has  {self.odometer_reading} miles on it.\")\n",
    "        \n",
    "    \n",
    "    \n",
    "# Create intance of Car.\n",
    "my_car = Car('Audi', 'a4', 2020)\n",
    "# print the car's description.\n",
    "print(my_car.get_description())\n",
    "# Print the car's odometer reading.\n",
    "my_car.update_odometer(23)\n",
    "my_car.read_odometer()"
   ]
  },
  {
   "cell_type": "markdown",
   "id": "fa1d06ff",
   "metadata": {},
   "source": [
    "We can extend the method `update_odometer()` to do additional work every\n",
    "time the odometer reading is modified. Let’s add a little logic to make sure\n",
    "no one tries to roll back the odometer reading:"
   ]
  },
  {
   "cell_type": "code",
   "execution_count": 9,
   "id": "68c01c69",
   "metadata": {},
   "outputs": [
    {
     "name": "stdout",
     "output_type": "stream",
     "text": [
      "2020 Audi A4\n",
      "This car has  23 miles on it.\n"
     ]
    }
   ],
   "source": [
    "class Car:\n",
    "    \"\"\"A simple class to represent a car.\"\"\"\n",
    "    def __init__(self, make, model, year):\n",
    "        \"\"\"Initialize the attributes to describe a car.\"\"\"\n",
    "        self.make = make\n",
    "        self.model = model\n",
    "        self.year = year\n",
    "        self.odometer_reading = 0\n",
    "        \n",
    "               \n",
    "    def get_description(self):\n",
    "        \"\"\"Return a neatly formatted descriptive name.\"\"\"\n",
    "        long_name = f\"{self.year} {self.make} {self.model}\"\n",
    "        return long_name.title()\n",
    "    \n",
    "    def update_odometer(self, mileage):\n",
    "        \"\"\"Set the odometer reading to the given value. Reject the change if it attempts to roll the odometer back.\n",
    "        \"\"\"\n",
    "        self.odometer_reading = mileage\n",
    "        if mileage >= self.odometer_reading:\n",
    "            self.odometer_reading = mileage\n",
    "        else:\n",
    "            print(\"You can't roll back an odometer!\")\n",
    "            \n",
    "    \n",
    "    def read_odometer(self):\n",
    "        \"\"\"Print a statement showing the car's mileage.\"\"\"\n",
    "        print(f\"This car has  {self.odometer_reading} miles on it.\")\n",
    "        \n",
    "    \n",
    "    \n",
    "# Create intance of Car.\n",
    "my_car = Car('Audi', 'a4', 2020)\n",
    "# print the car's description.\n",
    "print(my_car.get_description())\n",
    "# Print the car's odometer reading.\n",
    "my_car.update_odometer(23)\n",
    "my_car.read_odometer()"
   ]
  },
  {
   "cell_type": "markdown",
   "id": "60c207d2",
   "metadata": {},
   "source": [
    "### 3.  increment the value (add a certain amount to it) through a method. \n",
    "Sometimes we’ll want to increment an attribute’s value by a certain amount,\n",
    "rather than set an entirely new value. Say we buy a used car and put 100 miles on it between the time we buy it and the time we register it. Here’s a method that allows us to pass this incremental amount and add that value\n",
    "to the odometer reading"
   ]
  },
  {
   "cell_type": "code",
   "execution_count": null,
   "id": "1d6afec4",
   "metadata": {},
   "outputs": [
    {
     "name": "stdout",
     "output_type": "stream",
     "text": [
      "2015 Subaru Outback\n",
      "This car has  23500 miles on it.\n",
      "You can't roll back an odometer!\n",
      "This car has  23500 miles on it.\n"
     ]
    }
   ],
   "source": [
    "class Car:\n",
    "    \"\"\"A simple class to represent a car.\"\"\"\n",
    "    def __init__(self, make, model, year):\n",
    "        \"\"\"Initialize the attributes to describe a car.\"\"\"\n",
    "        self.make = make\n",
    "        self.model = model\n",
    "        self.year = year\n",
    "        self.odometer_reading = 0\n",
    "        \n",
    "               \n",
    "    def get_description(self):\n",
    "        \"\"\"Return a neatly formatted descriptive name.\"\"\"\n",
    "        long_name = f\"{self.year} {self.make} {self.model}\"\n",
    "        return long_name.title()\n",
    "    \n",
    "    def read_odometer(self):\n",
    "        \"\"\"Print a statement showing the car's mileage.\"\"\"\n",
    "        print(f\"This car has  {self.odometer_reading} miles on it.\")\n",
    "    \n",
    "    def update_odometer(self, mileage):\n",
    "        \"\"\"Set the odometer reading to the given value. Reject the change if it attempts to roll the odometer back.\n",
    "        \"\"\"\n",
    "        self.odometer_reading = mileage\n",
    "        if mileage >= self.odometer_reading:\n",
    "            self.odometer_reading = mileage\n",
    "        else:\n",
    "            print(\"You can't roll back an odometer!\")\n",
    "            \n",
    "            \n",
    "    def increment_odometer(self, miles):\n",
    "        \"\"\"Add the given amount to the odometer reading.\"\"\"\n",
    "        if miles >= 0:\n",
    "            self.odometer_reading += miles\n",
    "        else:\n",
    "            print(\"You can't roll back an odometer!\")\n",
    "            \n",
    "    \n",
    "my_used_car = Car('Subaru', 'outback', 2015)\n",
    "print(my_used_car.get_description())\n",
    "\n",
    "my_used_car.update_odometer(23500)\n",
    "my_used_car.read_odometer()\n",
    "\n",
    "my_used_car.increment_odometer(100)\n",
    "my_used_car.read_odometer()\n"
   ]
  },
  {
   "cell_type": "code",
   "execution_count": null,
   "id": "c0a33466",
   "metadata": {},
   "outputs": [],
   "source": []
  }
 ],
 "metadata": {
  "kernelspec": {
   "display_name": "python_basics",
   "language": "python",
   "name": "python3"
  },
  "language_info": {
   "codemirror_mode": {
    "name": "ipython",
    "version": 3
   },
   "file_extension": ".py",
   "mimetype": "text/x-python",
   "name": "python",
   "nbconvert_exporter": "python",
   "pygments_lexer": "ipython3",
   "version": "3.10.16"
  }
 },
 "nbformat": 4,
 "nbformat_minor": 5
}
