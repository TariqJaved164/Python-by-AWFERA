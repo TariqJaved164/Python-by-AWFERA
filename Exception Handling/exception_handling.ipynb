{
 "cells": [
  {
   "cell_type": "markdown",
   "metadata": {},
   "source": [
    "# Exception Handling in Python"
   ]
  },
  {
   "cell_type": "markdown",
   "metadata": {},
   "source": [
    "## 🧠 What Are Exceptions?\n",
    "\n",
    "An exception is an error that occurs **during the execution of a program**, disrupting the normal flow. Python provides a way to handle such situations using `try`, `except`, and other keywords."
   ]
  },
  {
   "cell_type": "markdown",
   "metadata": {},
   "source": [
    "## 📘 Level 1: Basic Exception Handling\n",
    "### ✅ Syntax"
   ]
  },
  {
   "cell_type": "code",
   "execution_count": 2,
   "metadata": {},
   "outputs": [
    {
     "name": "stdout",
     "output_type": "stream",
     "text": [
      "You can't divide by zero!\n"
     ]
    }
   ],
   "source": [
    "try:\n",
    "    # code that may cause an error.\n",
    "    x = 10 / 0\n",
    "except ZeroDivisionError:\n",
    "    print(\"You can't divide by zero!\")\n",
    "    "
   ]
  },
  {
   "cell_type": "markdown",
   "metadata": {},
   "source": [
    "Ask the user for a number and convert it to an integer. Catch exceptions if input is not a number.\n",
    "\n"
   ]
  },
  {
   "cell_type": "code",
   "execution_count": 4,
   "metadata": {},
   "outputs": [
    {
     "name": "stdout",
     "output_type": "stream",
     "text": [
      "You entered the number: 5\n"
     ]
    }
   ],
   "source": [
    "try:\n",
    "    user_input = input(\"Enter a number: \")\n",
    "    number = int(user_input)\n",
    "    print(f\"You entered the number: {number}\")\n",
    "except ValueError:\n",
    "    print(\"That was not a valid number. Please enter digits only.\")\n"
   ]
  },
  {
   "cell_type": "markdown",
   "metadata": {},
   "source": [
    "## 📗 Level 2: Multiple Exceptions and `else` / `finally`\n",
    "### ✅ Multiple Exception Types"
   ]
  },
  {
   "cell_type": "code",
   "execution_count": 8,
   "metadata": {},
   "outputs": [
    {
     "name": "stdout",
     "output_type": "stream",
     "text": [
      "You can't divide by zero.\n"
     ]
    }
   ],
   "source": [
    "try:\n",
    "    num = int(input(\"Enter a number: \"))\n",
    "    result = 10 / num\n",
    "    print(f\"10 divided by {num} is {result}\")\n",
    "except ValueError:\n",
    "    print(\"That's not a number.\")\n",
    "except ZeroDivisionError:\n",
    "    print(\"You can't divide by zero.\")\n"
   ]
  },
  {
   "cell_type": "markdown",
   "metadata": {},
   "source": [
    "### ✅ `else` Block"
   ]
  },
  {
   "cell_type": "code",
   "execution_count": 11,
   "metadata": {},
   "outputs": [
    {
     "name": "stdout",
     "output_type": "stream",
     "text": [
      "Invalid input!\n"
     ]
    }
   ],
   "source": [
    "try:\n",
    "    num = int(input(\"Enter number: \"))\n",
    "    \n",
    "except ValueError:\n",
    "    print(\"Invalid input!\")\n",
    "else:\n",
    "    print(f\"Good job! You entered {num}\")\n"
   ]
  },
  {
   "cell_type": "markdown",
   "metadata": {},
   "source": [
    "### ✅ `finally` Block\n",
    "\n"
   ]
  },
  {
   "cell_type": "code",
   "execution_count": 24,
   "metadata": {},
   "outputs": [
    {
     "name": "stdout",
     "output_type": "stream",
     "text": [
      "File not found.\n",
      "Closing the file......\n"
     ]
    },
    {
     "ename": "NameError",
     "evalue": "name 'file' is not defined",
     "output_type": "error",
     "traceback": [
      "\u001b[1;31m---------------------------------------------------------------------------\u001b[0m",
      "\u001b[1;31mNameError\u001b[0m                                 Traceback (most recent call last)",
      "Cell \u001b[1;32mIn[24], line 10\u001b[0m\n\u001b[0;32m      8\u001b[0m \u001b[38;5;28;01mfinally\u001b[39;00m:\n\u001b[0;32m      9\u001b[0m     \u001b[38;5;28mprint\u001b[39m(\u001b[38;5;124m\"\u001b[39m\u001b[38;5;124mClosing the file......\u001b[39m\u001b[38;5;124m\"\u001b[39m)\n\u001b[1;32m---> 10\u001b[0m     \u001b[43mfile\u001b[49m\u001b[38;5;241m.\u001b[39mclose()\n",
      "\u001b[1;31mNameError\u001b[0m: name 'file' is not defined"
     ]
    }
   ],
   "source": [
    "try:\n",
    "    # attempt to open a file that may not exist.\n",
    "    file = open(\"somefile.txt\", \"r\")\n",
    "    data = file.read() # try to read the file.\n",
    "    \n",
    "except FileNotFoundError: # handle the case where the file doesn't exist.\n",
    "    print(\"File not found.\")\n",
    "finally:\n",
    "    print(\"Closing the file......\")\n",
    "    file.close()\n"
   ]
  },
  {
   "cell_type": "code",
   "execution_count": 25,
   "metadata": {},
   "outputs": [
    {
     "name": "stdout",
     "output_type": "stream",
     "text": [
      "File not found.\n",
      "Closing the file......\n"
     ]
    }
   ],
   "source": [
    "try:\n",
    "    # attempt to open a file that may not exist.\n",
    "    file = open(\"somefile.txt\", \"r\")\n",
    "    data = file.read()  # try to read the file.\n",
    "    \n",
    "except FileNotFoundError:  # handle the case where the file doesn't exist.\n",
    "    print(\"File not found.\")\n",
    "    file = None  # Ensure file is defined in case of exception.\n",
    "finally:\n",
    "    print(\"Closing the file......\")\n",
    "    if file:  # Only close the file if it was successfully opened.\n",
    "        file.close()"
   ]
  },
  {
   "cell_type": "code",
   "execution_count": null,
   "metadata": {},
   "outputs": [],
   "source": []
  },
  {
   "cell_type": "markdown",
   "metadata": {},
   "source": [
    "### 🧪 Intermediate Practice Problems\n",
    "\n",
    "1.  Try opening a file that doesn’t exist. Catch and print the exception.\n",
    "2.  Write a calculator that handles division and value errors.\n",
    "3.  Use `else` to confirm successful user input, and `finally` to say goodbye."
   ]
  },
  {
   "cell_type": "code",
   "execution_count": null,
   "metadata": {},
   "outputs": [
    {
     "name": "stdout",
     "output_type": "stream",
     "text": [
      "File not found.\n",
      "This always runs.\n"
     ]
    }
   ],
   "source": [
    "# Try opening a file that doesn’t exist. Catch and print the exception.\n",
    "try:\n",
    "    f = open(\"somefile.txt\", \"r\")\n",
    "    data = f.read()\n",
    "    \n",
    "except FileNotFoundError:\n",
    "    print(\"File not found.\")\n",
    "    \n",
    "finally:\n",
    "    print(\"This always runs.\")\n"
   ]
  },
  {
   "cell_type": "code",
   "execution_count": null,
   "metadata": {},
   "outputs": [
    {
     "name": "stdout",
     "output_type": "stream",
     "text": [
      "The result of dividing 12.0 by 3.0 is 4.0.\n"
     ]
    }
   ],
   "source": [
    "# Write a calculator that handles division and value errors.\n",
    "\n",
    "try:\n",
    "    num1 = float(input(\"Enter first number:\"))\n",
    "    num2 = float(input(\"Enter second number:\"))\n",
    "    \n",
    "    result = num1 / num2\n",
    "    print(f\"The result of dividing {num1} by {num2} is {result}.\")\n",
    "    \n",
    "except ValueError:\n",
    "    print(\"Invalid input - Please enter  numbers only.\")\n",
    "    \n",
    "except ZeroDivisionError:\n",
    "    print(\"Error! You can't divide by zero.\")\n",
    "    "
   ]
  },
  {
   "cell_type": "markdown",
   "metadata": {},
   "source": [
    "## 📙 Level 3: Advanced Concepts\n",
    "### ✅ Raising Exceptions Manually"
   ]
  },
  {
   "cell_type": "code",
   "execution_count": 16,
   "metadata": {},
   "outputs": [
    {
     "ename": "ValueError",
     "evalue": "Age can't be negative",
     "output_type": "error",
     "traceback": [
      "\u001b[1;31m---------------------------------------------------------------------------\u001b[0m",
      "\u001b[1;31mValueError\u001b[0m                                Traceback (most recent call last)",
      "Cell \u001b[1;32mIn[16], line 6\u001b[0m\n\u001b[0;32m      3\u001b[0m         \u001b[38;5;28;01mraise\u001b[39;00m \u001b[38;5;167;01mValueError\u001b[39;00m(\u001b[38;5;124m\"\u001b[39m\u001b[38;5;124mAge can\u001b[39m\u001b[38;5;124m'\u001b[39m\u001b[38;5;124mt be negative\u001b[39m\u001b[38;5;124m\"\u001b[39m)\n\u001b[0;32m      4\u001b[0m     \u001b[38;5;28mprint\u001b[39m(\u001b[38;5;124mf\u001b[39m\u001b[38;5;124m\"\u001b[39m\u001b[38;5;124mAge is set to \u001b[39m\u001b[38;5;132;01m{\u001b[39;00mage\u001b[38;5;132;01m}\u001b[39;00m\u001b[38;5;124m\"\u001b[39m)\n\u001b[1;32m----> 6\u001b[0m \u001b[43mset_age\u001b[49m\u001b[43m(\u001b[49m\u001b[38;5;241;43m-\u001b[39;49m\u001b[38;5;241;43m5\u001b[39;49m\u001b[43m)\u001b[49m\n",
      "Cell \u001b[1;32mIn[16], line 3\u001b[0m, in \u001b[0;36mset_age\u001b[1;34m(age)\u001b[0m\n\u001b[0;32m      1\u001b[0m \u001b[38;5;28;01mdef\u001b[39;00m\u001b[38;5;250m \u001b[39m\u001b[38;5;21mset_age\u001b[39m(age):\n\u001b[0;32m      2\u001b[0m     \u001b[38;5;28;01mif\u001b[39;00m age \u001b[38;5;241m<\u001b[39m \u001b[38;5;241m0\u001b[39m:\n\u001b[1;32m----> 3\u001b[0m         \u001b[38;5;28;01mraise\u001b[39;00m \u001b[38;5;167;01mValueError\u001b[39;00m(\u001b[38;5;124m\"\u001b[39m\u001b[38;5;124mAge can\u001b[39m\u001b[38;5;124m'\u001b[39m\u001b[38;5;124mt be negative\u001b[39m\u001b[38;5;124m\"\u001b[39m)\n\u001b[0;32m      4\u001b[0m     \u001b[38;5;28mprint\u001b[39m(\u001b[38;5;124mf\u001b[39m\u001b[38;5;124m\"\u001b[39m\u001b[38;5;124mAge is set to \u001b[39m\u001b[38;5;132;01m{\u001b[39;00mage\u001b[38;5;132;01m}\u001b[39;00m\u001b[38;5;124m\"\u001b[39m)\n",
      "\u001b[1;31mValueError\u001b[0m: Age can't be negative"
     ]
    }
   ],
   "source": [
    "def set_age(age):\n",
    "    if age < 0:\n",
    "        raise ValueError(\"Age can't be negative\")\n",
    "    print(f\"Age is set to {age}\")\n",
    "\n",
    "set_age(-5)\n"
   ]
  },
  {
   "cell_type": "markdown",
   "metadata": {},
   "source": [
    "### ✅ Creating Custom Exceptions"
   ]
  },
  {
   "cell_type": "code",
   "execution_count": null,
   "metadata": {},
   "outputs": [
    {
     "name": "stdout",
     "output_type": "stream",
     "text": [
      "An error occured -invalid literal for int() with base 10: 'k'.\n"
     ]
    }
   ],
   "source": [
    "try:\n",
    "    # code that may cause exception.\n",
    "    num = int(input(\"Enter a number:\"))\n",
    "    result = 10 / num  # may raise ZeroDivisionError.\n",
    "    print(f\"10v divded by {num} is {result}.\")\n",
    "    \n",
    "except Exception as e:  # catch all exceptions.\n",
    "    print(f\"An error occured -{e}.\")\n",
    "    \n",
    "    "
   ]
  },
  {
   "cell_type": "code",
   "execution_count": 37,
   "metadata": {},
   "outputs": [
    {
     "name": "stdout",
     "output_type": "stream",
     "text": [
      "Error! Amount can't be negative..\n"
     ]
    }
   ],
   "source": [
    "def withdraw(amount):\n",
    "    if amount < 0:  # Check if amount is negative.\n",
    "        # raise ValueError(\"Amount cannot be negative.\")\n",
    "        raise ValueError(\"Amount can't be negative.\")\n",
    "    # print withdrawal amount.\n",
    "    print(f\"Withdrawing ${amount}.\")\n",
    "    \n",
    "    \n",
    "try:\n",
    "    # Attemp to withdraw negative amount.\n",
    "    withdraw(-500)\n",
    "\n",
    "except Exception as e:\n",
    "    print(f\"Error! {e}.\")    "
   ]
  },
  {
   "cell_type": "markdown",
   "metadata": {},
   "source": [
    "### 🧪 Advanced Practice Problems\n",
    "1.  Create a function `set_price(price)` that raises an exception if price is not positive.\n"
   ]
  },
  {
   "cell_type": "code",
   "execution_count": 40,
   "metadata": {},
   "outputs": [
    {
     "name": "stdout",
     "output_type": "stream",
     "text": [
      "Error: Price can't be negative.\n"
     ]
    }
   ],
   "source": [
    "def set_price(price):\n",
    "    if price < 0:\n",
    "        raise ValueError(\"Price can't be negative.\")\n",
    "\n",
    "\n",
    "try:\n",
    "    set_price(-10)  # Example call to set_price with a negative value.\n",
    "except ValueError as e:\n",
    "    print(f\"Error: {e}\")\n",
    "    "
   ]
  },
  {
   "cell_type": "markdown",
   "metadata": {},
   "source": [
    "2.  Define a custom exception `PasswordTooShortError` and raise it if a password is less than 8 characters."
   ]
  },
  {
   "cell_type": "code",
   "execution_count": 41,
   "metadata": {},
   "outputs": [
    {
     "name": "stdout",
     "output_type": "stream",
     "text": [
      "Error : Password must be atleat 8 characters long.\n"
     ]
    }
   ],
   "source": [
    "class PasswordTooShorError(Exception):\n",
    "    pass\n",
    "\n",
    "\n",
    "def check_password(password):\n",
    "    if len(password) < 8:\n",
    "        raise PasswordTooShorError(\"Password must be atleat 8 characters long.\")\n",
    "    \n",
    "try:\n",
    "    check_password(\"12345\")\n",
    "except PasswordTooShorError as e:\n",
    "    print(f\"Error : {e}\")\n",
    "    "
   ]
  },
  {
   "cell_type": "markdown",
   "metadata": {},
   "source": [
    "3.  Build a login function that raises different exceptions for wrong username and password."
   ]
  },
  {
   "cell_type": "code",
   "execution_count": null,
   "metadata": {},
   "outputs": [],
   "source": [
    "# Step 1: Define custom exceptions\n",
    "class WrongUsernameError(Exception):\n",
    "    pass\n",
    "\n",
    "class WrongPasswordError(Exception):\n",
    "    pass\n",
    "\n",
    "# Step 2: Login function\n",
    "def login(username, password):\n",
    "    correct_username = \"admin\"\n",
    "    correct_password = \"secret123\"\n",
    "\n",
    "    if username != correct_username:\n",
    "        raise WrongUsernameError(\"The username is incorrect.\")\n",
    "    if password != correct_password:\n",
    "        raise WrongPasswordError(\"The password is incorrect.\")\n",
    "    \n",
    "    print(\"Login successful!\")\n",
    "\n",
    "# Step 3: Get input and handle exceptions\n",
    "try:\n",
    "    user = input(\"Enter username: \")\n",
    "    pwd = input(\"Enter password: \")\n",
    "    login(user, pwd)\n",
    "\n",
    "except WrongUsernameError as e:\n",
    "    print(\"Login failed:\", e)\n",
    "\n",
    "except WrongPasswordError as e:\n",
    "    print(\"Login failed:\", e)\n"
   ]
  },
  {
   "cell_type": "markdown",
   "metadata": {},
   "source": [
    "### ✅ Summary"
   ]
  },
  {
   "cell_type": "markdown",
   "metadata": {},
   "source": [
    "| Concept        | Purpose |\n",
    "| --------      | ------- |\n",
    "| try       | Code that may raise an error    |\n",
    "| except     | Code that handles the error    |\n",
    "| else                    | Runs if no error occurs    |\n",
    "| finally               | Always runs, error or not    |\n",
    "| raise                | Manually raise an exception     |\n",
    "| ExceptCustomion    | Define your own error types   |"
   ]
  },
  {
   "cell_type": "markdown",
   "metadata": {},
   "source": []
  }
 ],
 "metadata": {
  "kernelspec": {
   "display_name": "python_basics",
   "language": "python",
   "name": "python3"
  },
  "language_info": {
   "codemirror_mode": {
    "name": "ipython",
    "version": 3
   },
   "file_extension": ".py",
   "mimetype": "text/x-python",
   "name": "python",
   "nbconvert_exporter": "python",
   "pygments_lexer": "ipython3",
   "version": "3.10.16"
  }
 },
 "nbformat": 4,
 "nbformat_minor": 2
}
