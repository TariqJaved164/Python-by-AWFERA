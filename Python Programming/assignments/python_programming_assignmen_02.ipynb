{
 "cells": [
  {
   "cell_type": "markdown",
   "metadata": {},
   "source": [
    "### Name : Tariq Javed\n",
    "### Gmail_ID : khichi164@gmail.com\n",
    "### Course Name : Python Programming\n",
    "### Assignment No.2"
   ]
  },
  {
   "cell_type": "markdown",
   "metadata": {},
   "source": [
    "### Question 1: Variables and Data Types\n",
    "#### Problem: Write a Python program that:\n",
    "1. Accepts a string, an integer, a fl oat, and a boolean from the user.\n",
    "2. Initializes variables for each type, and prints them out.\n",
    "3. Convert the string to uppercase and print it.\n",
    "4. Check if the integer is even or odd and print the result.\n",
    "5. Multiply the fl oat by 2 and print the result."
   ]
  },
  {
   "cell_type": "markdown",
   "metadata": {},
   "source": [
    "#### Solution:"
   ]
  },
  {
   "cell_type": "code",
   "execution_count": 1,
   "metadata": {},
   "outputs": [
    {
     "name": "stdout",
     "output_type": "stream",
     "text": [
      "Uppercase string:  PYTHON\n",
      "The number 25 is odd.\n",
      "Doubled float:  6.28\n",
      "The boolean is True.\n"
     ]
    }
   ],
   "source": [
    "# accept inputs from user.\n",
    "string = input(\"Enter a string: \")  # string input\n",
    "integer = int(input(\"Enter an integer: \")) # integer input\n",
    "float_number = float(input(\"Enter a float: \")) # float input\n",
    "boolean = input(\"Enter a boolean(True/False): \") # boolean input\n",
    "\n",
    "\n",
    "uppercase_string = string.upper() # convert string to uppercase\n",
    "print(\"Uppercase string: \", uppercase_string)\n",
    "\n",
    "# check if the integer is even or odd\n",
    "if integer % 2 == 0:\n",
    "    print(f\"The number {integer} is even.\")\n",
    "else:\n",
    "    print(f\"The number {integer} is odd.\")\n",
    "    \n",
    "    \n",
    "# multiply the float by 2\n",
    "doubled_float = float_number * 2\n",
    "print(\"Doubled float: \", doubled_float)\n",
    "\n",
    "# check if the boolean is True or False\n",
    "if boolean == \"True\":\n",
    "    print(\"The boolean is True.\")\n",
    "elif boolean == \"False\":\n",
    "    print(\"The boolean is False.\")\n",
    "else:\n",
    "    print(\"Invalid boolean input.\")\n"
   ]
  },
  {
   "cell_type": "markdown",
   "metadata": {},
   "source": [
    "### Question 2: Operators\n",
    "#### Problem: Write a Python program that:\n",
    "1. Accepts two numbers as input from the user.\n",
    "2. Performs and prints the result of all the arithmetic operations (addition, subtraction, multiplication, division, modulus, fl ow division) between these two numbers.\n",
    "3. Use comparison operators to check if the fi rst number is greater than the second, and if they are equal.\n",
    "4. Use logical operators to combine two conditions (e.g., the fi rst number is greater than the second, and the second number is less than 10)."
   ]
  },
  {
   "cell_type": "code",
   "execution_count": 2,
   "metadata": {},
   "outputs": [
    {
     "name": "stdout",
     "output_type": "stream",
     "text": [
      "Addition :  13\n",
      "Subtraction :  7\n",
      "Multiplication :  30\n",
      "Division :  3.3333333333333335\n",
      "Modulus :  1\n",
      "Float division :  3\n",
      "First number is greater than second number:  True\n",
      "First number is equal to second number:  False\n",
      "Both conditions are True:  False\n"
     ]
    }
   ],
   "source": [
    "# take input from user .\n",
    "first_number = int(input(\"Enter the first number: \"))\n",
    "second_number = int(input(\"Enter the second number: \"))\n",
    "\n",
    "# addition of two numbers\n",
    "sum_of_numbers = first_number + second_number\n",
    "print(\"Addition : \", sum_of_numbers)\n",
    "\n",
    "# subtraction of two numbers\n",
    "difference_of_numbers = first_number - second_number\n",
    "print(\"Subtraction : \", difference_of_numbers)\n",
    "\n",
    "# multiplication of two numbers\n",
    "product_of_numbers = first_number * second_number\n",
    "print(\"Multiplication : \", product_of_numbers)\n",
    "\n",
    "# division of two numbers\n",
    "quotient_of_numbers = first_number /second_number\n",
    "print(\"Division : \", quotient_of_numbers)\n",
    "\n",
    "# remainder of two numbers\n",
    "remainder_of_numbers = first_number % second_number\n",
    "print(\"Modulus : \", remainder_of_numbers)\n",
    "\n",
    "# float division of two numbers\n",
    "float_division_of_numbers = first_number // second_number\n",
    "print(\"Float division : \", float_division_of_numbers)\n",
    "\n",
    "# comparison of two numbers\n",
    "comparison_of_numbers = first_number > second_number\n",
    "print(\"First number is greater than second number: \", comparison_of_numbers)\n",
    "\n",
    "# to check if they are equal\n",
    "equality_of_numbers = first_number == second_number\n",
    "print(\"First number is equal to second number: \", equality_of_numbers)\n",
    "\n",
    "# combine two conditions\n",
    "combined_conditions = comparison_of_numbers and equality_of_numbers\n",
    "print(\"Both conditions are True: \", combined_conditions)\n",
    "\n",
    "\n",
    "    "
   ]
  },
  {
   "cell_type": "markdown",
   "metadata": {},
   "source": [
    "### Question 3: Loops\n",
    "\n",
    "#### Problem: Write a Python program that:\n",
    "\n",
    "1. Accepts a list of integers from the user.\n",
    "2. Loops through the list and prints out each number.\n",
    "3. If a number is greater than 10, skip it using the `continue` statement.\n",
    "4. Stop the loop if the number is 20 using the `break` statement.\n",
    "5. After the loop ends, print a message that the loop ended naturally.\n"
   ]
  },
  {
   "cell_type": "code",
   "execution_count": 19,
   "metadata": {},
   "outputs": [
    {
     "name": "stdout",
     "output_type": "stream",
     "text": [
      "5\n",
      "10\n",
      "Skipping 12\n",
      "Skipping 15\n",
      "Breaking at 20\n",
      "Loop ended naturally\n"
     ]
    }
   ],
   "source": [
    "# Accept a list of integers from the user\n",
    "numbers = list(map(int, input(\"Enter a list of numbers separated by spaces: \").split()))\n",
    "\n",
    "# Loop through the list\n",
    "for n in numbers:\n",
    "    if n == 20:  \n",
    "        print(f\"Breaking at {n}\")\n",
    "        break  # Stop the loop if the number is 20\n",
    "    \n",
    "    if n > 10:  \n",
    "        print(f\"Skipping {n}\")\n",
    "        continue  # Skip numbers greater than 10\n",
    "    \n",
    "    print(n)  # Print the number if it does not meet the above conditions\n",
    "\n",
    "# Print message after the loop ends\n",
    "print(\"Loop ended naturally\")\n"
   ]
  }
 ],
 "metadata": {
  "kernelspec": {
   "display_name": "Python 3",
   "language": "python",
   "name": "python3"
  },
  "language_info": {
   "codemirror_mode": {
    "name": "ipython",
    "version": 3
   },
   "file_extension": ".py",
   "mimetype": "text/x-python",
   "name": "python",
   "nbconvert_exporter": "python",
   "pygments_lexer": "ipython3",
   "version": "3.13.2"
  }
 },
 "nbformat": 4,
 "nbformat_minor": 2
}
