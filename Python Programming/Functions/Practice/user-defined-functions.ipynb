{
 "cells": [
  {
   "cell_type": "markdown",
   "metadata": {},
   "source": [
    "## Python User-Defined Functions Practice Problems"
   ]
  },
  {
   "cell_type": "markdown",
   "metadata": {},
   "source": [
    "### Easy Level Problems (Fundamentals)"
   ]
  },
  {
   "cell_type": "markdown",
   "metadata": {},
   "source": [
    "1.  Basic Function: Write a function called `greet()` that takes a name as input and prints \"Hello, [name]!\""
   ]
  },
  {
   "cell_type": "code",
   "execution_count": 3,
   "metadata": {},
   "outputs": [
    {
     "name": "stdout",
     "output_type": "stream",
     "text": [
      "Hello, John!\n"
     ]
    }
   ],
   "source": [
    "# Defining a function.\n",
    "def greet(name):\n",
    "    \"\"\"Display a greeting.\"\"\"\n",
    "    print(f\"Hello, {name.title()}!\")\n",
    "    \n",
    "# calling the function\n",
    "greet(\"John\")"
   ]
  },
  {
   "cell_type": "markdown",
   "metadata": {},
   "source": [
    "### 2.  Simple Calculator"
   ]
  },
  {
   "cell_type": "code",
   "execution_count": 4,
   "metadata": {},
   "outputs": [
    {
     "name": "stdout",
     "output_type": "stream",
     "text": [
      "Sum of two numbers is: 8\n"
     ]
    }
   ],
   "source": [
    "# defining a function.\n",
    "def add_nimbers(a,b):\n",
    "    \"\"\" this function adds two numbers and returns the result.\"\"\"\n",
    "    return a+b\n",
    "# calling the function\n",
    "result = add_nimbers(5,3)\n",
    "print(f\"Sum of two numbers is: {result}\")\n"
   ]
  },
  {
   "cell_type": "markdown",
   "metadata": {},
   "source": [
    "### 3. Even Checker"
   ]
  },
  {
   "cell_type": "code",
   "execution_count": 9,
   "metadata": {},
   "outputs": [
    {
     "name": "stdout",
     "output_type": "stream",
     "text": [
      "Is the number even? True\n"
     ]
    }
   ],
   "source": [
    "def is_even(number):\n",
    "    \"\"\"This function checks if a number is even or not.\"\"\"\n",
    "    if number % 2 == 0:\n",
    "        return True\n",
    "    else:\n",
    "        return False\n",
    "    # calling the function\n",
    "result = is_even(4)\n",
    "print(f\"Is the number even? {result}\")"
   ]
  },
  {
   "cell_type": "code",
   "execution_count": 10,
   "metadata": {},
   "outputs": [
    {
     "name": "stdout",
     "output_type": "stream",
     "text": [
      "Number 6 is even.\n"
     ]
    }
   ],
   "source": [
    "def is_even(num):\n",
    "    \"\"\"This function checks if a numnber is even or odd.\"\"\"\n",
    "    if num % 2 == 0:\n",
    "        print(f\"Number {num} is even.\")\n",
    "    else:\n",
    "        print(f\"Number {num} is odd.\")\n",
    "        \n",
    "# callingthe function\n",
    "is_even(6)"
   ]
  },
  {
   "cell_type": "markdown",
   "metadata": {},
   "source": [
    "### 4.    Area Calculator"
   ]
  },
  {
   "cell_type": "code",
   "execution_count": 11,
   "metadata": {},
   "outputs": [
    {
     "name": "stdout",
     "output_type": "stream",
     "text": [
      "The area of the rectangle is: 15\n"
     ]
    }
   ],
   "source": [
    "# defining a function .\n",
    "def calculate_area(length,width):\n",
    "    \"\"\" This function calculates the area of a rectangle.\"\"\"\n",
    "    area = length * width\n",
    "    return area\n",
    "\n",
    "# calling the function.\n",
    "length = 5\n",
    "width = 3   \n",
    "area = calculate_area(length,width)\n",
    "print(f\"The area of the rectangle is: {area}\")\n",
    "\n"
   ]
  },
  {
   "cell_type": "markdown",
   "metadata": {},
   "source": [
    "### 5.  String Repeater\n",
    "Write a function `repeat_string(s, n)` that returns the string s repeated n times."
   ]
  },
  {
   "cell_type": "code",
   "execution_count": 13,
   "metadata": {},
   "outputs": [
    {
     "name": "stdout",
     "output_type": "stream",
     "text": [
      "hellohellohello\n"
     ]
    }
   ],
   "source": [
    "def repeat_string(s , n):\n",
    "    \"\"\"This function repeats a string s for n times.\"\"\"\n",
    "    return s * n\n",
    "\n",
    "# calling the function\n",
    "result = repeat_string(\"hello\", 3)\n",
    "print(result )"
   ]
  },
  {
   "cell_type": "markdown",
   "metadata": {},
   "source": [
    "## Intermediate Level Problems (Multiple Parameters & Logic)"
   ]
  },
  {
   "cell_type": "markdown",
   "metadata": {},
   "source": [
    "### 6. Prime Checker"
   ]
  },
  {
   "cell_type": "code",
   "execution_count": 1,
   "metadata": {},
   "outputs": [
    {
     "name": "stdout",
     "output_type": "stream",
     "text": [
      "7 is a prime number.\n"
     ]
    }
   ],
   "source": [
    "# The Following code checks if the user-provided number is prime or not\n",
    "\n",
    "# Defining the function\n",
    "# Logic : A number is not prime if :\n",
    "# \t\t1. it is less than equal to 1 and\n",
    "# \t\t2. it is divisible by any number except 1 and itself\n",
    "\n",
    "def is_prime(number):\n",
    "  if number > 1:\n",
    "    for i in range(2,number):\n",
    "      if (number % i) == 0:\n",
    "        return False\n",
    "    return True\n",
    "  else:\n",
    "    return False\n",
    "\n",
    "# Taking user input\n",
    "number = int(input(\"Enter a number to check: \"))\n",
    "\n",
    "# Condition Checking\n",
    "if is_prime(number):\n",
    "  print(f\"{number} is a prime number.\")\n",
    "else:\n",
    "  print(f\"{number} is not a prime number.\")\n",
    "     \n",
    "     \n",
    "        \n",
    "        \n"
   ]
  },
  {
   "cell_type": "code",
   "execution_count": 3,
   "metadata": {},
   "outputs": [
    {
     "name": "stdout",
     "output_type": "stream",
     "text": [
      "Number 11 is prime\n"
     ]
    }
   ],
   "source": [
    "# define a function.\n",
    "def is_prime(n):\n",
    "    if n<=1:  # 1 and less than 1 (0, negative) are not prime\n",
    "        return False\n",
    "    for i in range(2 , n):\n",
    "        if n % i == 0:\n",
    "            return False\n",
    "    return True\n",
    "    \n",
    "# calling the function.\n",
    "number = 11\n",
    "if is_prime(number):\n",
    "    print(f\"Number {number} is prime\")"
   ]
  },
  {
   "cell_type": "markdown",
   "metadata": {},
   "source": [
    "### 7. Factorial of Number"
   ]
  },
  {
   "cell_type": "code",
   "execution_count": null,
   "metadata": {},
   "outputs": [
    {
     "name": "stdout",
     "output_type": "stream",
     "text": [
      "Factorial of 5 is 120\n"
     ]
    }
   ],
   "source": [
    "# defining a function.\n",
    "def calculate_factorial(n):\n",
    "    fact = 1\n",
    "    for i in range(1, n+1):\n",
    "        fact *= i\n",
    "    return fact\n",
    "\n",
    "# calling the function.\n",
    "number =  5\n",
    "result= calculate_factorial(number)\n",
    "print(f\"Factorial of {number} is {result}\")\n",
    "     "
   ]
  }
 ],
 "metadata": {
  "kernelspec": {
   "display_name": "python_basics",
   "language": "python",
   "name": "python3"
  },
  "language_info": {
   "codemirror_mode": {
    "name": "ipython",
    "version": 3
   },
   "file_extension": ".py",
   "mimetype": "text/x-python",
   "name": "python",
   "nbconvert_exporter": "python",
   "pygments_lexer": "ipython3",
   "version": "3.10.16"
  }
 },
 "nbformat": 4,
 "nbformat_minor": 2
}
