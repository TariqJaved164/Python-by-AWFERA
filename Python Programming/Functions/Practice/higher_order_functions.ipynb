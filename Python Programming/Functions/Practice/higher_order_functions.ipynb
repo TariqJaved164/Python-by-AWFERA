{
 "cells": [
  {
   "cell_type": "markdown",
   "metadata": {},
   "source": [
    "# Higher-Order Functions in Python"
   ]
  },
  {
   "cell_type": "markdown",
   "metadata": {},
   "source": [
    "#### Introduction\n",
    "In Python, functions that take other functions as arguments or return functions as outputs are called **higher-order functions**. These functions are integral in improving programming skills, enhancing code readability, and enabling modular code. This document explains the concept of higher-order functions in Python, followed by detailed examples of some commonly used higher-order functions like `map`, `filter`, `reduce`, `zip`, and `enumerate`."
   ]
  },
  {
   "cell_type": "markdown",
   "metadata": {},
   "source": [
    "### What Are Higher-Order Functions?\n",
    "A higher-order function is a function that:\n",
    "\n",
    "- Takes another function as an argument or\n",
    "- Returns a function as its result.\n",
    "  \n",
    "In simpler terms, it is a function that operates on other functions."
   ]
  },
  {
   "cell_type": "markdown",
   "metadata": {},
   "source": [
    "### Common Higher-Order Functions in Python"
   ]
  },
  {
   "cell_type": "markdown",
   "metadata": {},
   "source": [
    "#### 1. Map Function\n",
    "The `map()` function applies a given function to each item of an iterable (e.g., list, tuple) and returns a list of the results.\n",
    "\n",
    "**Syntax:** map(function, iterable)\n",
    "\n",
    "**Example:**"
   ]
  },
  {
   "cell_type": "code",
   "execution_count": null,
   "metadata": {},
   "outputs": [
    {
     "name": "stdout",
     "output_type": "stream",
     "text": [
      "[2, 4, 6, 8, 10]\n"
     ]
    }
   ],
   "source": [
    "def double(x):\n",
    "    return x * 2\n",
    "\n",
    "numbers = [1,2,3,4,5]  # list of numbers.\n",
    "# Using map() to apply the double function to each element in the list\n",
    "doubled_numbers = list(map(double, numbers))\n",
    "print(doubled_numbers)\n"
   ]
  },
  {
   "cell_type": "code",
   "execution_count": 2,
   "metadata": {},
   "outputs": [
    {
     "name": "stdout",
     "output_type": "stream",
     "text": [
      "[2, 4, 6, 8, 10]\n"
     ]
    }
   ],
   "source": [
    "numbers = [1,2,3,4,5]  # list of numbers.\n",
    "# Using map() with a lambda function to double each number in the list\n",
    "doubled_numbers = list(map(lambda x:x * 2, numbers))\n",
    "print(doubled_numbers)"
   ]
  },
  {
   "cell_type": "markdown",
   "metadata": {},
   "source": [
    "#### 2. Filter Function\n",
    "The `filter()` function filters elements in an iterable based on a condition defined by a function. It only returns elements that satisfy the condition.\n",
    "\n",
    "**Example:**"
   ]
  },
  {
   "cell_type": "code",
   "execution_count": 3,
   "metadata": {},
   "outputs": [
    {
     "name": "stdout",
     "output_type": "stream",
     "text": [
      "[2, 4]\n"
     ]
    }
   ],
   "source": [
    "# function to check if a number is even.\n",
    "def is_even(x):\n",
    "    return x % 2 == 0\n",
    "numbers = [1,2,3,4,5]  # list of numbers.\n",
    "# Using filter() to apply the is_even function to each element in the list\n",
    "even_numbers = list(filter(is_even,numbers))\n",
    "print(even_numbers)\n"
   ]
  },
  {
   "cell_type": "code",
   "execution_count": 4,
   "metadata": {},
   "outputs": [
    {
     "name": "stdout",
     "output_type": "stream",
     "text": [
      "[2, 4]\n"
     ]
    }
   ],
   "source": [
    "# using filter() with lambda function to check if a number is even.\n",
    "even_numbers = list(filter(lambda x : x % 2 == 0, numbers))\n",
    "print(even_numbers)"
   ]
  },
  {
   "cell_type": "markdown",
   "metadata": {},
   "source": [
    "#### 3. Reduce Function\n",
    "The `reduce()` function takes a function and an iterable, and applies the function cumulatively to the items in the iterable, returning a single output.\n",
    "\n",
    "To use `reduce()`, it must be imported from the `functools` module.\n",
    "\n",
    "**Example:**"
   ]
  },
  {
   "cell_type": "code",
   "execution_count": 6,
   "metadata": {},
   "outputs": [
    {
     "name": "stdout",
     "output_type": "stream",
     "text": [
      "120\n"
     ]
    }
   ],
   "source": [
    "# import reduce from functools.\n",
    "from functools import reduce\n",
    "\n",
    "def multiply(x , y): # function that multiply x with y.\n",
    "    return x*y\n",
    "\n",
    "numbers = [1,2,3,4,5] # list of numbers.\n",
    "# use reduce() function.\n",
    "result = reduce(multiply , numbers)\n",
    "print(result)"
   ]
  },
  {
   "cell_type": "markdown",
   "metadata": {},
   "source": [
    "### 4. Zip Function\n",
    "The `zip()` function combines two or more iterables into tuples, pairing elements from each iterable in the corresponding order.\n",
    "\n",
    "**Example:**"
   ]
  },
  {
   "cell_type": "code",
   "execution_count": 7,
   "metadata": {},
   "outputs": [
    {
     "name": "stdout",
     "output_type": "stream",
     "text": [
      "[('Alice', 25), ('Bob', 30), ('Charlie', 35)]\n"
     ]
    }
   ],
   "source": [
    "# list of names.\n",
    "names = [\"Alice\" , \"Bob\" , \"Charlie\"]\n",
    "# list of ages.\n",
    "ages = [25 , 30 , 35]\n",
    "# use zip() function to combine both lists in list of tuples.\n",
    "zipped = list(zip(names , ages))\n",
    "print(zipped)"
   ]
  },
  {
   "cell_type": "markdown",
   "metadata": {},
   "source": [
    "#### 5. Enumerate Function\n",
    "The `enumerate()` function adds an index to each item in an iterable. It is useful when you need to track the index of items in a loop.\n",
    "\n",
    "**Example:**"
   ]
  },
  {
   "cell_type": "code",
   "execution_count": 8,
   "metadata": {},
   "outputs": [
    {
     "name": "stdout",
     "output_type": "stream",
     "text": [
      "1. Apple\n",
      "2. Banana\n",
      "3. Cherry\n"
     ]
    }
   ],
   "source": [
    "# list of fruits.\n",
    "fruits = [\"Apple\" , \"Banana\" , \"Cherry\"]\n",
    "for index , fruit in enumerate(fruits, start=1):\n",
    "    print(f\"{index}. {fruit}\")\n"
   ]
  },
  {
   "cell_type": "markdown",
   "metadata": {},
   "source": [
    "### Best Practices\n",
    "- **Map and Filter:** Use `map()` and `filter()` functions for simple operations. However, consider using list comprehensions for better readability.\n",
    "- R**educe:** Only use `reduce()` when absolutely necessary. In most cases, loops can be a more readable and efficient alternative.\n",
    "- **Zip:** Use `zip()` when you need to pair items from multiple iterables into tuples.\n",
    "- **Enumerate:** Use `enumerate()` when you need to manipulate or track the index of items in an iterable.\n",
    "\n",
    " "
   ]
  },
  {
   "cell_type": "markdown",
   "metadata": {},
   "source": []
  }
 ],
 "metadata": {
  "kernelspec": {
   "display_name": "python_basics",
   "language": "python",
   "name": "python3"
  },
  "language_info": {
   "codemirror_mode": {
    "name": "ipython",
    "version": 3
   },
   "file_extension": ".py",
   "mimetype": "text/x-python",
   "name": "python",
   "nbconvert_exporter": "python",
   "pygments_lexer": "ipython3",
   "version": "3.10.16"
  }
 },
 "nbformat": 4,
 "nbformat_minor": 2
}
